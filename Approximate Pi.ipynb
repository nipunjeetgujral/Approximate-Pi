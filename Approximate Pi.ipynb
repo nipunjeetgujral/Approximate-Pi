{
 "cells": [
  {
   "cell_type": "markdown",
   "id": "e1d8d6d3",
   "metadata": {},
   "source": [
    "<br>\n",
    "\n",
    "<h1>\n",
    "    <center>\n",
    "        Estimating $\\pi$ using a Qauntum Computer\n",
    "    </center>\n",
    "</h1>"
   ]
  },
  {
   "cell_type": "markdown",
   "id": "584687f0",
   "metadata": {},
   "source": [
    "## Table of Contents\n",
    "\n",
    "\n",
    "0. [Define Problem](#0.-Define-Problem)\n",
    "1. [Import Libraries](#)\n",
    "2. [Estimate $\\pi$ using Taylor Series Expansion](#) \n",
    "3. [Estimate $\\pi$ using Monte Carlo Simulation with Numpy](#)\n",
    "4. [Estimate $\\pi$ using Quantum Accelerated Monte Carlo Simulation](#) \n",
    "    * Generate Random 8-bit Numbers\n",
    "    * Normalize Random Numbers Between [0,1]\n",
    "    * Measure Circle vs. Square Ratio\n",
    "5. [Analysis of Performance](#)\n",
    "    * Accuracy\n",
    "    * Speed\n",
    "6. [Conclusion - Which is better?](#)"
   ]
  },
  {
   "cell_type": "markdown",
   "id": "f26e74b8",
   "metadata": {},
   "source": [
    "### 0. Define Problem\n",
    "\n",
    "#### Approximating $\\pi$ as a Series:\n",
    "\n",
    "\n",
    "$$\\frac{\\pi}{4} = \\frac{(-1)^{n}}{2n-1} \\rightarrow  \\pi = 4\\frac{(-1)^{n}}{2n-1}$$\n",
    "\n",
    "\n",
    "#### Aproximate $\\pi$ via Monte Carlo Simulation\n",
    "\n",
    "![MC_Simulation](Monte_Carlo_Approximation.gif)"
   ]
  },
  {
   "cell_type": "markdown",
   "id": "6224a324",
   "metadata": {},
   "source": [
    "### 1. Import Libraries"
   ]
  },
  {
   "cell_type": "code",
   "execution_count": 1,
   "id": "bd763ca2",
   "metadata": {},
   "outputs": [],
   "source": [
    "# import visulaization tool\n",
    "import seaborn as sns\n",
    "import matplotlib.pyplot as plt\n",
    "\n",
    "# import numerical processing tool\n",
    "import numpy as np\n",
    "\n",
    "# data handeling\n",
    "import pandas as pd\n",
    "\n",
    "# measure time/duration \n",
    "import time\n",
    "\n",
    "# import quantum simulation tools\n",
    "from qiskit import QuantumRegister, ClassicalRegister, QuantumCircuit\n",
    "from qiskit import BasicAer, execute\n",
    "import pylatexenc"
   ]
  },
  {
   "cell_type": "markdown",
   "id": "66d76ba2",
   "metadata": {},
   "source": [
    "### 2. Estimate $\\pi$ using Taylor Series Expansion\n",
    "\n",
    "$$ \\pi = 4 \\sum_{n=1}^{i} \\frac{(-1)^{n}}{2n-1}$$"
   ]
  },
  {
   "cell_type": "code",
   "execution_count": null,
   "id": "ca45be1d",
   "metadata": {},
   "outputs": [],
   "source": [
    "def GenerateTaylorSeries(x):\n",
    "    \"\"\"\n",
    "    Input:\n",
    "        x | int | numebr of iterations to approximate taylor series expansion pi/4\n",
    "    Output:\n",
    "        pi_aproximation | float | approximation of pi        \n",
    "    \"\"\"\n",
    "        \n",
    "    iteration_value = [(1**(2*i+1)*(-1)**i)/(2*i+1) for i in np.arange(x)]\n",
    "    summation = np.sum(iteration_value)\n",
    "    pi_approximation = 4 * summation\n",
    "        \n",
    "    return pi_approximation"
   ]
  },
  {
   "cell_type": "code",
   "execution_count": null,
   "id": "98d7e257",
   "metadata": {},
   "outputs": [],
   "source": [
    "# establish lists to hold recorded values\n",
    "pi_approximation_list = []\n",
    "population_list = []\n",
    "duration = [] \n",
    "\n",
    "for sample_size in [int(1e2), int(1e3), int(1e4), int(1e5), int(1e6)]:\n",
    "\n",
    "    print(sample_size)\n",
    "        \n",
    "    # measure start time\n",
    "    start = time.time()   \n",
    "    \n",
    "    # generate taylor series\n",
    "    pi_approximation = GenerateTaylorSeries(x = sample_size)\n",
    "    \n",
    "    # measure stop time\n",
    "    stop = time.time()\n",
    "    \n",
    "    # record keeping\n",
    "    duration.append(stop-start)        \n",
    "    pi_approximation_list.append(pi_approximation)\n",
    "    population_list.append(sample_size)\n",
    "    \n",
    "TaylorSeries_Performance = (\n",
    "    pd\n",
    "    .DataFrame(\n",
    "        data = list(zip(pi_approximation_list, population_list, duration)),\n",
    "        columns = ['pi_approximatation', 'population', 'duration']\n",
    "    )\n",
    "    .assign(        \n",
    "        error = lambda x: x['pi_approximatation'] - np.pi\n",
    "    )   \n",
    ")\n",
    "\n",
    "TaylorSeries_Performance"
   ]
  },
  {
   "cell_type": "markdown",
   "id": "9c61ecf7",
   "metadata": {},
   "source": [
    "### 3. Estimate $\\pi$ using Monte Carlo Simulation with Numpy"
   ]
  },
  {
   "cell_type": "code",
   "execution_count": 2,
   "id": "776d33c8",
   "metadata": {},
   "outputs": [
    {
     "name": "stdout",
     "output_type": "stream",
     "text": [
      "100\n",
      "1000\n",
      "10000\n",
      "100000\n",
      "1000000\n"
     ]
    }
   ],
   "source": [
    "# establish lists to hold recorded values\n",
    "pi_approximation_list = []\n",
    "population_list = []\n",
    "duration = [] \n",
    "\n",
    "for sample_size in [int(1e2), int(1e3), int(1e4), int(1e5), int(1e6)]:\n",
    "\n",
    "    print(sample_size)\n",
    "        \n",
    "    # measure start time\n",
    "    start = time.time()   \n",
    "    \n",
    "    # generate x values\n",
    "    x = np.random.random_sample(sample_size)\n",
    "    # generate y values\n",
    "    y = np.random.random_sample(sample_size)\n",
    "    \n",
    "    # create MC \n",
    "    mc_values = np.sqrt(np.square(x) + np.square(y))\n",
    "    pi_approximation = 4*len(mc_values[mc_values < 1]) / len(x)\n",
    "    \n",
    "    # measure stop time\n",
    "    stop = time.time()\n",
    "    \n",
    "    # record keeping\n",
    "    duration.append(stop-start)        \n",
    "    pi_approximation_list.append(pi_approximation)\n",
    "    population_list.append(sample_size)"
   ]
  },
  {
   "cell_type": "code",
   "execution_count": 3,
   "id": "06ec5779",
   "metadata": {},
   "outputs": [
    {
     "data": {
      "text/html": [
       "<div>\n",
       "<style scoped>\n",
       "    .dataframe tbody tr th:only-of-type {\n",
       "        vertical-align: middle;\n",
       "    }\n",
       "\n",
       "    .dataframe tbody tr th {\n",
       "        vertical-align: top;\n",
       "    }\n",
       "\n",
       "    .dataframe thead th {\n",
       "        text-align: right;\n",
       "    }\n",
       "</style>\n",
       "<table border=\"1\" class=\"dataframe\">\n",
       "  <thead>\n",
       "    <tr style=\"text-align: right;\">\n",
       "      <th></th>\n",
       "      <th>pi_approximatation</th>\n",
       "      <th>population</th>\n",
       "      <th>duration</th>\n",
       "      <th>error</th>\n",
       "    </tr>\n",
       "  </thead>\n",
       "  <tbody>\n",
       "    <tr>\n",
       "      <th>0</th>\n",
       "      <td>3.040000</td>\n",
       "      <td>100</td>\n",
       "      <td>0.000000</td>\n",
       "      <td>-0.101593</td>\n",
       "    </tr>\n",
       "    <tr>\n",
       "      <th>1</th>\n",
       "      <td>3.204000</td>\n",
       "      <td>1000</td>\n",
       "      <td>0.000000</td>\n",
       "      <td>0.062407</td>\n",
       "    </tr>\n",
       "    <tr>\n",
       "      <th>2</th>\n",
       "      <td>3.159600</td>\n",
       "      <td>10000</td>\n",
       "      <td>0.000000</td>\n",
       "      <td>0.018007</td>\n",
       "    </tr>\n",
       "    <tr>\n",
       "      <th>3</th>\n",
       "      <td>3.144720</td>\n",
       "      <td>100000</td>\n",
       "      <td>0.000000</td>\n",
       "      <td>0.003127</td>\n",
       "    </tr>\n",
       "    <tr>\n",
       "      <th>4</th>\n",
       "      <td>3.140612</td>\n",
       "      <td>1000000</td>\n",
       "      <td>0.021001</td>\n",
       "      <td>-0.000981</td>\n",
       "    </tr>\n",
       "  </tbody>\n",
       "</table>\n",
       "</div>"
      ],
      "text/plain": [
       "   pi_approximatation  population  duration     error\n",
       "0            3.040000         100  0.000000 -0.101593\n",
       "1            3.204000        1000  0.000000  0.062407\n",
       "2            3.159600       10000  0.000000  0.018007\n",
       "3            3.144720      100000  0.000000  0.003127\n",
       "4            3.140612     1000000  0.021001 -0.000981"
      ]
     },
     "execution_count": 3,
     "metadata": {},
     "output_type": "execute_result"
    }
   ],
   "source": [
    "Numpy_Performance = (\n",
    "    pd\n",
    "    .DataFrame(\n",
    "        data = list(zip(pi_approximation_list, population_list, duration)),\n",
    "        columns = ['pi_approximatation', 'population', 'duration']\n",
    "    )\n",
    "    .assign(        \n",
    "        error = lambda x: x['pi_approximatation'] - np.pi\n",
    "    )   \n",
    ")\n",
    "\n",
    "Numpy_Performance"
   ]
  },
  {
   "cell_type": "code",
   "execution_count": null,
   "id": "93fbc941",
   "metadata": {},
   "outputs": [],
   "source": []
  },
  {
   "cell_type": "code",
   "execution_count": 7,
   "id": "674c6806",
   "metadata": {},
   "outputs": [],
   "source": [
    "def CreateCircuit(bits):\n",
    "    \"\"\"\n",
    "    Input:\n",
    "        bits | int | defines how many q-bits the circuit involves\n",
    "    Output:\n",
    "        circuit | qiskit.circuit | establish a circuit to randomly generate 8-bit binary numbers\n",
    "        circuit_diagram | matplotlib.figure | figure that depicts the q-bit to c-bit figure\n",
    "    \"\"\"    \n",
    "    \n",
    "    # define quantum register | classical register\n",
    "    q = QuantumRegister(bits);  c = ClassicalRegister(bits)\n",
    "    \n",
    "    # define circuit\n",
    "    circuit = QuantumCircuit(q, c)\n",
    "    \n",
    "    # use for loops to add q-bits and hadamar gates to the existing circuit\n",
    "    for j in range(bits): circuit.h(q[j])\n",
    "    \n",
    "    # add measurements to transfer from q-bit to classical-bit\n",
    "    circuit.measure(q, c)\n",
    "    \n",
    "    # draw circuit\n",
    "    circuit_drawing = circuit.draw(output='mpl')\n",
    "    \n",
    "    # return circuit and drawing\n",
    "    #return (circuit, circuit_drawing)\n",
    "    return circuit"
   ]
  },
  {
   "cell_type": "code",
   "execution_count": 8,
   "id": "429371a2",
   "metadata": {},
   "outputs": [],
   "source": [
    "def GenerateRandomNumbers_QC(circuit, sample_size):\n",
    "    \"\"\"\n",
    "    Input:\n",
    "        circuit | qiskit.circuit | establish a circuit to randomly generate 8-bit binary numbers\n",
    "        sample_size | int | number of iterations to generate 8-bit numbers\n",
    "    Output:\n",
    "        numbers | list(int) | list of binary numbers generated by the circuit\n",
    "    \"\"\"   \n",
    "    \n",
    "    # generate binary numbers\n",
    "    binary_numbers = execute(\n",
    "        experiments = circuit,\n",
    "        backend = BasicAer.get_backend('qasm_simulator'),\n",
    "        shots = sample_size,\n",
    "        memory = True\n",
    "    )\n",
    "    \n",
    "    # convert binary numbers to integers\n",
    "    numbers = np.array([int(i, 2) for i in binary_numbers.result().get_memory()])\n",
    "    \n",
    "    return numbers"
   ]
  },
  {
   "cell_type": "code",
   "execution_count": 9,
   "id": "b32b9484",
   "metadata": {},
   "outputs": [],
   "source": [
    "def NormalizeNumbers(numbers):\n",
    "    \"\"\"\n",
    "    Input:\n",
    "        numbers | list(int) | list of binary numbers generated by the circuit\n",
    "    Output:\n",
    "        normalized_values | list(float) | list of normalized numbers between [0,1]\n",
    "    \"\"\"\n",
    "    minimum = min(numbers)\n",
    "    maximum = max(numbers)\n",
    "    \n",
    "    normalized_values = np.array([(num - maximum) / (maximum - minimum) for num in numbers])\n",
    "    \n",
    "    return normalized_values"
   ]
  },
  {
   "cell_type": "code",
   "execution_count": 10,
   "id": "4e3e34fa",
   "metadata": {
    "scrolled": true
   },
   "outputs": [
    {
     "name": "stdout",
     "output_type": "stream",
     "text": [
      "100\n",
      "1000\n",
      "10000\n",
      "100000\n",
      "1000000\n"
     ]
    }
   ],
   "source": [
    "# establish circute\n",
    "bits = 8\n",
    "circuit = CreateCircuit(bits = bits)\n",
    "\n",
    "# establish lists to hold recorded values\n",
    "pi_approximation_list = []\n",
    "population_list = []\n",
    "duration = [] \n",
    "\n",
    "# perform iterations    \n",
    "for sample_size in [int(1e2), int(1e3), int(1e4), int(1e5), int(1e6)]:\n",
    "\n",
    "    print(sample_size)\n",
    "        \n",
    "    # measure start time\n",
    "    start = time.time()   \n",
    "    \n",
    "    # generate x values\n",
    "    x = NormalizeNumbers(GenerateRandomNumbers_QC(circuit = circuit, sample_size = sample_size))\n",
    "    # generate y values\n",
    "    y = NormalizeNumbers(GenerateRandomNumbers_QC(circuit = circuit, sample_size = sample_size))\n",
    "    \n",
    "    # create MC \n",
    "    mc_values = np.sqrt(np.square(x) + np.square(y))\n",
    "    pi_approximation = 4*len(mc_values[mc_values < 1]) / len(x)\n",
    "    \n",
    "    # measure stop time\n",
    "    stop = time.time()\n",
    "    \n",
    "    # record keeping\n",
    "    duration.append(stop-start)        \n",
    "    pi_approximation_list.append(pi_approximation)\n",
    "    population_list.append(sample_size)"
   ]
  },
  {
   "cell_type": "code",
   "execution_count": 11,
   "id": "7df9c9c0",
   "metadata": {},
   "outputs": [
    {
     "data": {
      "text/html": [
       "<div>\n",
       "<style scoped>\n",
       "    .dataframe tbody tr th:only-of-type {\n",
       "        vertical-align: middle;\n",
       "    }\n",
       "\n",
       "    .dataframe tbody tr th {\n",
       "        vertical-align: top;\n",
       "    }\n",
       "\n",
       "    .dataframe thead th {\n",
       "        text-align: right;\n",
       "    }\n",
       "</style>\n",
       "<table border=\"1\" class=\"dataframe\">\n",
       "  <thead>\n",
       "    <tr style=\"text-align: right;\">\n",
       "      <th></th>\n",
       "      <th>pi_approximatation</th>\n",
       "      <th>population</th>\n",
       "      <th>duration</th>\n",
       "      <th>error</th>\n",
       "    </tr>\n",
       "  </thead>\n",
       "  <tbody>\n",
       "    <tr>\n",
       "      <th>0</th>\n",
       "      <td>3.04000</td>\n",
       "      <td>100</td>\n",
       "      <td>0.067158</td>\n",
       "      <td>-0.101593</td>\n",
       "    </tr>\n",
       "    <tr>\n",
       "      <th>1</th>\n",
       "      <td>3.18400</td>\n",
       "      <td>1000</td>\n",
       "      <td>0.016404</td>\n",
       "      <td>0.042407</td>\n",
       "    </tr>\n",
       "    <tr>\n",
       "      <th>2</th>\n",
       "      <td>3.13240</td>\n",
       "      <td>10000</td>\n",
       "      <td>0.133715</td>\n",
       "      <td>-0.009193</td>\n",
       "    </tr>\n",
       "    <tr>\n",
       "      <th>3</th>\n",
       "      <td>3.12756</td>\n",
       "      <td>100000</td>\n",
       "      <td>1.199413</td>\n",
       "      <td>-0.014033</td>\n",
       "    </tr>\n",
       "    <tr>\n",
       "      <th>4</th>\n",
       "      <td>3.13318</td>\n",
       "      <td>1000000</td>\n",
       "      <td>12.400432</td>\n",
       "      <td>-0.008413</td>\n",
       "    </tr>\n",
       "  </tbody>\n",
       "</table>\n",
       "</div>"
      ],
      "text/plain": [
       "   pi_approximatation  population   duration     error\n",
       "0             3.04000         100   0.067158 -0.101593\n",
       "1             3.18400        1000   0.016404  0.042407\n",
       "2             3.13240       10000   0.133715 -0.009193\n",
       "3             3.12756      100000   1.199413 -0.014033\n",
       "4             3.13318     1000000  12.400432 -0.008413"
      ]
     },
     "execution_count": 11,
     "metadata": {},
     "output_type": "execute_result"
    }
   ],
   "source": [
    "QuantumComputing_Performance = (\n",
    "    pd\n",
    "    .DataFrame(\n",
    "        data = list(zip(pi_approximation_list, population_list, duration)),\n",
    "        columns = ['pi_approximatation', 'population', 'duration']\n",
    "    )\n",
    "    .assign(        \n",
    "        error = lambda x: x['pi_approximatation'] - np.pi\n",
    "    )   \n",
    ")\n",
    "\n",
    "QuantumComputing_Performance"
   ]
  },
  {
   "cell_type": "code",
   "execution_count": 31,
   "id": "524afe71",
   "metadata": {},
   "outputs": [],
   "source": [
    "TaylorSeries_Performance = TaylorSeries_Performance.assign(method = 'TaylorSeries')\n",
    "Numpy_Performance = Numpy_Performance.assign(method = 'NumpyMC')\n",
    "QuantumComputing_Performance = QuantumComputing_Performance.assign(method = 'QCMC')\n",
    "\n",
    "Performance_DataFrame = (\n",
    "    pd\n",
    "    .concat(\n",
    "        [TaylorSeries_Performance, Numpy_Performance, QuantumComputing_Performance]\n",
    "    )\n",
    "    [['method', 'population', 'duration', 'pi_approximatation', 'error']]\n",
    ")"
   ]
  },
  {
   "cell_type": "code",
   "execution_count": 67,
   "id": "21fff7c0",
   "metadata": {},
   "outputs": [
    {
     "data": {
      "text/plain": [
       "<matplotlib.lines.Line2D at 0x16e11816a30>"
      ]
     },
     "execution_count": 67,
     "metadata": {},
     "output_type": "execute_result"
    },
    {
     "data": {
      "image/png": "[encoded data removed]",
      "text/plain": [
       "<Figure size 1152x360 with 1 Axes>"
      ]
     },
     "metadata": {
      "needs_background": "light"
     },
     "output_type": "display_data"
    }
   ],
   "source": [
    "fig, ax0 = plt.subplots()\n",
    "\n",
    "for algorithm in ['TaylorSeries', 'NumpyMC', 'QCMC']:\n",
    "    (\n",
    "        Performance_DataFrame\n",
    "        .query(f\"method == '{algorithm}'\")\n",
    "        .assign(log_pop = lambda x: np.log10(x['population']))\n",
    "        .plot(\n",
    "            x = 'log_pop',\n",
    "            y = 'pi_approximatation',\n",
    "            ax = ax0,\n",
    "            style = \"o--\",\n",
    "            markersize = 10,            \n",
    "            xlabel = \"log10 Computational Iterations\",\n",
    "            ylabel = \"Approximation to Pi\",\n",
    "            title = \"Iterative Approximation of Pi\",\n",
    "            figsize = (16, 5),\n",
    "        )\n",
    "    )\n",
    "    \n",
    "ax0.legend(['TaylorSeries', 'NumpyMC', 'QCMC'])\n",
    "plt.axhline(\n",
    "    y = np.pi,\n",
    "    xmin = 0, xmax = Performance_DataFrame.population.max(),\n",
    "    color = 'red',\n",
    "    linewidth = 2,\n",
    "    linestyle = 'dotted'\n",
    ")"
   ]
  },
  {
   "cell_type": "code",
   "execution_count": null,
   "id": "c1a9d10b",
   "metadata": {},
   "outputs": [],
   "source": []
  },
  {
   "cell_type": "code",
   "execution_count": 68,
   "id": "1f5b7a9a",
   "metadata": {},
   "outputs": [
    {
     "data": {
      "text/plain": [
       "<matplotlib.lines.Line2D at 0x16e115f7250>"
      ]
     },
     "execution_count": 68,
     "metadata": {},
     "output_type": "execute_result"
    },
    {
     "data": {
      "image/png": "[encoded data removed]",
      "text/plain": [
       "<Figure size 1152x360 with 1 Axes>"
      ]
     },
     "metadata": {
      "needs_background": "light"
     },
     "output_type": "display_data"
    }
   ],
   "source": [
    "fig, ax0 = plt.subplots()\n",
    "\n",
    "for algorithm in ['TaylorSeries', 'NumpyMC', 'QCMC']:\n",
    "    (\n",
    "        Performance_DataFrame\n",
    "        .query(f\"method == '{algorithm}'\")\n",
    "        .assign(log_pop = lambda x: np.log10(x['population']))\n",
    "        .plot(\n",
    "            x = 'log_pop',\n",
    "            y = 'error',\n",
    "            ax = ax0,\n",
    "            style = \"o--\",\n",
    "            markersize = 10,            \n",
    "            xlabel = \"log10 Computational Iterations\",\n",
    "            ylabel = \"Error\",\n",
    "            title = \"Iterative Approximation of Pi\",\n",
    "            figsize = (16, 5),\n",
    "        )\n",
    "    )\n",
    "    \n",
    "ax0.legend(['TaylorSeries', 'NumpyMC', 'QCMC'])\n",
    "plt.axhline(\n",
    "    y = 0,\n",
    "    xmin = 0, xmax = Performance_DataFrame.population.max(),\n",
    "    color = 'red',\n",
    "    linewidth = 2,\n",
    "    linestyle = 'dotted'\n",
    ")"
   ]
  },
  {
   "cell_type": "code",
   "execution_count": null,
   "id": "15a2c7eb",
   "metadata": {},
   "outputs": [],
   "source": []
  },
  {
   "cell_type": "code",
   "execution_count": null,
   "id": "8bb19607",
   "metadata": {},
   "outputs": [],
   "source": []
  }
 ],
 "metadata": {
  "kernelspec": {
   "display_name": "Python 3 (ipykernel)",
   "language": "python",
   "name": "python3"
  },
  "language_info": {
   "codemirror_mode": {
    "name": "ipython",
    "version": 3
   },
   "file_extension": ".py",
   "mimetype": "text/x-python",
   "name": "python",
   "nbconvert_exporter": "python",
   "pygments_lexer": "ipython3",
   "version": "3.9.12"
  }
 },
 "nbformat": 4,
 "nbformat_minor": 5
}
