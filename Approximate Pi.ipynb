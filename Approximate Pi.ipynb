{
 "cells": [
  {
   "cell_type": "markdown",
   "id": "f2dd8ac6",
   "metadata": {},
   "source": [
    "<br>\n",
    "\n",
    "<h1>\n",
    "    <center>\n",
    "        Estimating $\\pi$ using Various Methods\n",
    "    </center>\n",
    "</h1>"
   ]
  },
  {
   "cell_type": "markdown",
   "id": "b5aff9e5",
   "metadata": {},
   "source": [
    "## Table of Contents\n",
    "\n",
    "\n",
    "0. [Define Problem](#0.-Define-Problem)\n",
    "1. [Import Libraries](#1.-Import-Libraries)\n",
    "2. [Estimate $\\pi$ using Taylor Series Expansion](#2.-Estimate-$\\pi$-using-Taylor-Series-Expansion) \n",
    "    * 2.1 Define Functions\n",
    "        * GenerateTaylorSeries\n",
    "    * 2.2 Perform Computations\n",
    "    * 2.3 Construct Records DataFrame\n",
    "3. [Estimate $\\pi$ using Monte Carlo Simulation with Numpy](#3.-Estimate-$\\pi$-using-Monte-Carlo-Simulation-with-Numpy)\n",
    "    * 3.1 Perform Numpy Computations\n",
    "    * 3.2 Construct Records DataFrame\n",
    "4. [Estimate $\\pi$ using Quantum Monte Carlo Simulation](#4.-Estimate-$\\pi$-using-Quantum-Monte-Carlo-Simulation) \n",
    "    * 4.1 Define Functions\n",
    "        * CreateCircuit\n",
    "        * GenerateRandomNumbers_QC\n",
    "        * NormalizeNumbers\n",
    "    * 4.2 Perform Computations\n",
    "    * 4.3 Construct Records DataFrame\n",
    "5. [Analysis of Performance](#5.-Analysis-of-Performance)\n",
    "    * 5.1 Construct $\\pi$ Approximation Performance DataFrame\n",
    "    * 5.2 Plot Sample Size vs. $\\pi$ Approximation\n",
    "    * 5.3 Plot Sample Size vs. $\\pi$ Approximation Error\n",
    "    * 5.4 Plot Computational Time vs. $\\pi$ Approximation Error\n",
    "6. [Conclusion - Which is better?](#6.-Conclusion)"
   ]
  },
  {
   "cell_type": "markdown",
   "id": "9380363f",
   "metadata": {},
   "source": [
    "### 0. Define Problem\n",
    "\n",
    "<br>\n",
    "\n",
    "The below code is dedicated to approximating $\\pi$ using various computational methods. The famously irrational number can be approximated using iterative computational methods envolving both but not excluding the __Taylor Series__ approximation and __Monte Carlo__ simulation methods. As previously mentioned, each of the respective methods is reliant on the use of iterative computats or as the following code shall refferences it as _population_. Each iteration involves different population sizes ranging in value of $10^{1}, 10^{2}, 10^{3}, 10^{4}, 10^{5}, 10^{6}, 10^{7}, 10^{8}$ and each of the successive iterations in each of the aforementioned populations should more closely approximate $\\pi$. However dependening on the method used, the difference between the true value of $\\pi and its approximated value should become smaller, faster with successive iterations. The below code will attempt to measure which method is better in vaim metrcis associated accuracy and speed.\n",
    "\n",
    "\n",
    "<br>\n",
    "\n",
    "#### Approximating $\\pi$ vai the Taylor Series Expantion:\n",
    "\n",
    "$$\\pi = 4 \\sum_{i=1}^{n} \\frac{(-1)^{n}}{2n-1}$$\n",
    "\n",
    "$$ \\pi = 4 \\left( 1 - \\frac{1}{3} + \\frac{1}{5} - \\frac{1}{7} + \\frac{1}{9} ... \\frac{1}{n} \\right) = 3.1415926...$$\n",
    "\n",
    "<br>\n",
    "\n",
    "#### Aproximate $\\pi$ via Monte Carlo Simulation:\n",
    "\n",
    "\n",
    "$$ \\pi \\sim \\frac{ || \\sqrt{(x^{2} + y^{2})} || < 1 }{n}$$\n",
    "\n",
    "<br>\n",
    "\n",
    "![MC_Simulation](Monte_Carlo_Approximation.gif)"
   ]
  },
  {
   "cell_type": "markdown",
   "id": "d43a454f",
   "metadata": {},
   "source": [
    "### 1. Import Libraries"
   ]
  },
  {
   "cell_type": "code",
   "execution_count": 1,
   "id": "cd481994",
   "metadata": {},
   "outputs": [],
   "source": [
    "# import visulaization tool\n",
    "import seaborn as sns\n",
    "import matplotlib.pyplot as plt\n",
    "\n",
    "# import numerical processing tool\n",
    "import numpy as np\n",
    "np.random.seed(1234)\n",
    "\n",
    "# data handeling\n",
    "import pandas as pd\n",
    "\n",
    "# measure time/duration \n",
    "import time\n",
    "\n",
    "# import quantum simulation tools\n",
    "from qiskit import QuantumRegister, ClassicalRegister, QuantumCircuit\n",
    "from qiskit import BasicAer, execute\n",
    "import pylatexenc"
   ]
  },
  {
   "cell_type": "markdown",
   "id": "50ddc4cf",
   "metadata": {},
   "source": [
    "### 2. Estimate $\\pi$ using Taylor Series Expansion\n",
    "\n",
    "$$\\pi = 4 \\sum_{i=1}^{n} \\frac{(-1)^{n}}{2n-1} = 4  \\left( 1 - \\frac{1}{3} + \\frac{1}{5} - \\frac{1}{7} + \\frac{1}{9} ... \\frac{1}{n }\\right)$$\n"
   ]
  },
  {
   "cell_type": "markdown",
   "id": "0458750d",
   "metadata": {},
   "source": [
    "#### 2.1 Define Functions - GenerateTaylorSeries"
   ]
  },
  {
   "cell_type": "code",
   "execution_count": 2,
   "id": "f82231aa",
   "metadata": {},
   "outputs": [],
   "source": [
    "def GenerateTaylorSeries(x):\n",
    "    \"\"\"\n",
    "    Input:\n",
    "        x | int | numebr of iterations to approximate taylor series expansion pi/4\n",
    "    Output:\n",
    "        pi_aproximation | float | approximation of pi        \n",
    "    \"\"\"\n",
    "        \n",
    "    iteration_value = [(1**(2*i+1)*(-1)**i)/(2*i+1) for i in np.arange(x)]\n",
    "    summation = np.sum(iteration_value)\n",
    "    pi_approximation = 4 * summation\n",
    "        \n",
    "    return pi_approximation"
   ]
  },
  {
   "cell_type": "markdown",
   "id": "243795f5",
   "metadata": {},
   "source": [
    "#### 2.2 Perform Computations\n"
   ]
  },
  {
   "cell_type": "code",
   "execution_count": 3,
   "id": "e56f9f5c",
   "metadata": {},
   "outputs": [
    {
     "name": "stdout",
     "output_type": "stream",
     "text": [
      "100\n",
      "1000\n",
      "10000\n",
      "100000\n",
      "1000000\n",
      "10000000\n",
      "100000000\n"
     ]
    }
   ],
   "source": [
    "# establish lists to hold recorded values\n",
    "pi_approximation_list = []\n",
    "population_list = []\n",
    "duration = [] \n",
    "\n",
    "for sample_size in [int(1e2), int(1e3), int(1e4), int(1e5), int(1e6), int(1e7), int(1e8)]:\n",
    "\n",
    "    print(sample_size)\n",
    "        \n",
    "    # measure start time\n",
    "    start = time.time()   \n",
    "    \n",
    "    # generate taylor series\n",
    "    pi_approximation = GenerateTaylorSeries(x = sample_size)\n",
    "    \n",
    "    # measure stop time\n",
    "    stop = time.time()\n",
    "    \n",
    "    # record keeping\n",
    "    duration.append(stop-start)        \n",
    "    pi_approximation_list.append(pi_approximation)\n",
    "    population_list.append(sample_size)\n",
    "    "
   ]
  },
  {
   "cell_type": "markdown",
   "id": "e13d6253",
   "metadata": {},
   "source": [
    "#### 2.3 Construct Records DataFrame"
   ]
  },
  {
   "cell_type": "code",
   "execution_count": 4,
   "id": "060b52e5",
   "metadata": {},
   "outputs": [
    {
     "data": {
      "text/html": [
       "<div>\n",
       "<style scoped>\n",
       "    .dataframe tbody tr th:only-of-type {\n",
       "        vertical-align: middle;\n",
       "    }\n",
       "\n",
       "    .dataframe tbody tr th {\n",
       "        vertical-align: top;\n",
       "    }\n",
       "\n",
       "    .dataframe thead th {\n",
       "        text-align: right;\n",
       "    }\n",
       "</style>\n",
       "<table border=\"1\" class=\"dataframe\">\n",
       "  <thead>\n",
       "    <tr style=\"text-align: right;\">\n",
       "      <th></th>\n",
       "      <th>pi_approximatation</th>\n",
       "      <th>population</th>\n",
       "      <th>duration</th>\n",
       "      <th>error</th>\n",
       "    </tr>\n",
       "  </thead>\n",
       "  <tbody>\n",
       "    <tr>\n",
       "      <th>0</th>\n",
       "      <td>3.131593</td>\n",
       "      <td>100</td>\n",
       "      <td>0.000993</td>\n",
       "      <td>-9.999750e-03</td>\n",
       "    </tr>\n",
       "    <tr>\n",
       "      <th>1</th>\n",
       "      <td>3.140593</td>\n",
       "      <td>1000</td>\n",
       "      <td>0.000000</td>\n",
       "      <td>-9.999998e-04</td>\n",
       "    </tr>\n",
       "    <tr>\n",
       "      <th>2</th>\n",
       "      <td>3.141493</td>\n",
       "      <td>10000</td>\n",
       "      <td>0.006511</td>\n",
       "      <td>-1.000000e-04</td>\n",
       "    </tr>\n",
       "    <tr>\n",
       "      <th>3</th>\n",
       "      <td>3.141583</td>\n",
       "      <td>100000</td>\n",
       "      <td>0.073933</td>\n",
       "      <td>-1.000000e-05</td>\n",
       "    </tr>\n",
       "    <tr>\n",
       "      <th>4</th>\n",
       "      <td>3.141592</td>\n",
       "      <td>1000000</td>\n",
       "      <td>0.773516</td>\n",
       "      <td>-1.000000e-06</td>\n",
       "    </tr>\n",
       "    <tr>\n",
       "      <th>5</th>\n",
       "      <td>3.141593</td>\n",
       "      <td>10000000</td>\n",
       "      <td>7.815977</td>\n",
       "      <td>-1.000000e-07</td>\n",
       "    </tr>\n",
       "    <tr>\n",
       "      <th>6</th>\n",
       "      <td>3.141593</td>\n",
       "      <td>100000000</td>\n",
       "      <td>79.414183</td>\n",
       "      <td>-9.999976e-09</td>\n",
       "    </tr>\n",
       "  </tbody>\n",
       "</table>\n",
       "</div>"
      ],
      "text/plain": [
       "   pi_approximatation  population   duration         error\n",
       "0            3.131593         100   0.000993 -9.999750e-03\n",
       "1            3.140593        1000   0.000000 -9.999998e-04\n",
       "2            3.141493       10000   0.006511 -1.000000e-04\n",
       "3            3.141583      100000   0.073933 -1.000000e-05\n",
       "4            3.141592     1000000   0.773516 -1.000000e-06\n",
       "5            3.141593    10000000   7.815977 -1.000000e-07\n",
       "6            3.141593   100000000  79.414183 -9.999976e-09"
      ]
     },
     "metadata": {},
     "output_type": "display_data"
    }
   ],
   "source": [
    "TaylorSeries_Performance = (\n",
    "    pd\n",
    "    .DataFrame(\n",
    "        data = list(zip(pi_approximation_list, population_list, duration)),\n",
    "        columns = ['pi_approximatation', 'population', 'duration']\n",
    "    )\n",
    "    .assign(        \n",
    "        error = lambda x: x['pi_approximatation'] - np.pi\n",
    "    )   \n",
    ")\n",
    "\n",
    "display(TaylorSeries_Performance)"
   ]
  },
  {
   "cell_type": "markdown",
   "id": "b626f225",
   "metadata": {},
   "source": [
    "### 3. Estimate $\\pi$ using Monte Carlo Simulation with Numpy"
   ]
  },
  {
   "cell_type": "markdown",
   "id": "6a514062",
   "metadata": {},
   "source": [
    "#### 3.1 Perform Numpy Computations"
   ]
  },
  {
   "cell_type": "code",
   "execution_count": 5,
   "id": "f46d2bab",
   "metadata": {},
   "outputs": [
    {
     "name": "stdout",
     "output_type": "stream",
     "text": [
      "100\n",
      "1000\n",
      "10000\n",
      "100000\n",
      "1000000\n",
      "10000000\n",
      "100000000\n"
     ]
    }
   ],
   "source": [
    "# establish lists to hold recorded values\n",
    "pi_approximation_list = []\n",
    "population_list = []\n",
    "duration = [] \n",
    "\n",
    "for sample_size in [int(1e2), int(1e3), int(1e4), int(1e5), int(1e6), int(1e7), int(1e8)]:\n",
    "\n",
    "    print(sample_size)\n",
    "        \n",
    "    # measure start time\n",
    "    start = time.time()   \n",
    "    \n",
    "    # generate x values\n",
    "    x = np.random.random_sample(sample_size)\n",
    "    # generate y values\n",
    "    y = np.random.random_sample(sample_size)\n",
    "    \n",
    "    # create MC \n",
    "    mc_values = np.sqrt(np.square(x) + np.square(y))\n",
    "    pi_approximation = 4*len(mc_values[mc_values <= 1]) / len(x)\n",
    "    \n",
    "    # measure stop time\n",
    "    stop = time.time()\n",
    "    \n",
    "    # record keeping\n",
    "    duration.append(stop-start)        \n",
    "    pi_approximation_list.append(pi_approximation)\n",
    "    population_list.append(sample_size)"
   ]
  },
  {
   "cell_type": "markdown",
   "id": "11b3d2c5",
   "metadata": {},
   "source": [
    "#### 3.2 Construct Records DataFrame"
   ]
  },
  {
   "cell_type": "code",
   "execution_count": 6,
   "id": "5882618a",
   "metadata": {},
   "outputs": [
    {
     "data": {
      "text/html": [
       "<div>\n",
       "<style scoped>\n",
       "    .dataframe tbody tr th:only-of-type {\n",
       "        vertical-align: middle;\n",
       "    }\n",
       "\n",
       "    .dataframe tbody tr th {\n",
       "        vertical-align: top;\n",
       "    }\n",
       "\n",
       "    .dataframe thead th {\n",
       "        text-align: right;\n",
       "    }\n",
       "</style>\n",
       "<table border=\"1\" class=\"dataframe\">\n",
       "  <thead>\n",
       "    <tr style=\"text-align: right;\">\n",
       "      <th></th>\n",
       "      <th>pi_approximatation</th>\n",
       "      <th>population</th>\n",
       "      <th>duration</th>\n",
       "      <th>error</th>\n",
       "    </tr>\n",
       "  </thead>\n",
       "  <tbody>\n",
       "    <tr>\n",
       "      <th>0</th>\n",
       "      <td>3.120000</td>\n",
       "      <td>100</td>\n",
       "      <td>0.000000</td>\n",
       "      <td>-0.021593</td>\n",
       "    </tr>\n",
       "    <tr>\n",
       "      <th>1</th>\n",
       "      <td>3.088000</td>\n",
       "      <td>1000</td>\n",
       "      <td>0.000993</td>\n",
       "      <td>-0.053593</td>\n",
       "    </tr>\n",
       "    <tr>\n",
       "      <th>2</th>\n",
       "      <td>3.132400</td>\n",
       "      <td>10000</td>\n",
       "      <td>0.000000</td>\n",
       "      <td>-0.009193</td>\n",
       "    </tr>\n",
       "    <tr>\n",
       "      <th>3</th>\n",
       "      <td>3.145800</td>\n",
       "      <td>100000</td>\n",
       "      <td>0.002990</td>\n",
       "      <td>0.004207</td>\n",
       "    </tr>\n",
       "    <tr>\n",
       "      <th>4</th>\n",
       "      <td>3.140820</td>\n",
       "      <td>1000000</td>\n",
       "      <td>0.023587</td>\n",
       "      <td>-0.000773</td>\n",
       "    </tr>\n",
       "    <tr>\n",
       "      <th>5</th>\n",
       "      <td>3.141036</td>\n",
       "      <td>10000000</td>\n",
       "      <td>0.233634</td>\n",
       "      <td>-0.000556</td>\n",
       "    </tr>\n",
       "    <tr>\n",
       "      <th>6</th>\n",
       "      <td>3.141538</td>\n",
       "      <td>100000000</td>\n",
       "      <td>2.479883</td>\n",
       "      <td>-0.000054</td>\n",
       "    </tr>\n",
       "  </tbody>\n",
       "</table>\n",
       "</div>"
      ],
      "text/plain": [
       "   pi_approximatation  population  duration     error\n",
       "0            3.120000         100  0.000000 -0.021593\n",
       "1            3.088000        1000  0.000993 -0.053593\n",
       "2            3.132400       10000  0.000000 -0.009193\n",
       "3            3.145800      100000  0.002990  0.004207\n",
       "4            3.140820     1000000  0.023587 -0.000773\n",
       "5            3.141036    10000000  0.233634 -0.000556\n",
       "6            3.141538   100000000  2.479883 -0.000054"
      ]
     },
     "metadata": {},
     "output_type": "display_data"
    }
   ],
   "source": [
    "Numpy_Performance = (\n",
    "    pd\n",
    "    .DataFrame(\n",
    "        data = list(zip(pi_approximation_list, population_list, duration)),\n",
    "        columns = ['pi_approximatation', 'population', 'duration']\n",
    "    )\n",
    "    .assign(        \n",
    "        error = lambda x: x['pi_approximatation'] - np.pi\n",
    "    )   \n",
    ")\n",
    "\n",
    "display(Numpy_Performance)"
   ]
  },
  {
   "cell_type": "markdown",
   "id": "d7b714f0",
   "metadata": {},
   "source": [
    "### 4. Estimate $\\pi$ using Quantum Monte Carlo Simulation"
   ]
  },
  {
   "cell_type": "markdown",
   "id": "288d8781",
   "metadata": {},
   "source": [
    "#### 4.1 Define Functions - CreateCircuit"
   ]
  },
  {
   "cell_type": "code",
   "execution_count": 7,
   "id": "b1deb782",
   "metadata": {},
   "outputs": [],
   "source": [
    "def CreateCircuit(bits):\n",
    "    \"\"\"\n",
    "    Input:\n",
    "        bits | int | defines how many q-bits the circuit involves\n",
    "    Output:\n",
    "        circuit | qiskit.circuit | establish a circuit to randomly generate 8-bit binary numbers\n",
    "        circuit_diagram | matplotlib.figure | figure that depicts the q-bit to c-bit figure\n",
    "    \"\"\"    \n",
    "    \n",
    "    # define quantum register | classical register\n",
    "    q = QuantumRegister(bits);  c = ClassicalRegister(bits)\n",
    "    \n",
    "    # define circuit\n",
    "    circuit = QuantumCircuit(q, c)\n",
    "    \n",
    "    # use for loops to add q-bits and hadamar gates to the existing circuit\n",
    "    for j in range(bits): circuit.h(q[j])\n",
    "    \n",
    "    # add measurements to transfer from q-bit to classical-bit\n",
    "    circuit.measure(q, c)\n",
    "    \n",
    "    # draw circuit\n",
    "    circuit_drawing = circuit.draw(output='mpl')\n",
    "    \n",
    "    # return circuit and drawing\n",
    "    #return (circuit, circuit_drawing)\n",
    "    return circuit"
   ]
  },
  {
   "cell_type": "markdown",
   "id": "3753e9ff",
   "metadata": {},
   "source": [
    "#### 4.1 Define Functions - GenerateRandomNumbers_QC"
   ]
  },
  {
   "cell_type": "code",
   "execution_count": 8,
   "id": "465b556d",
   "metadata": {},
   "outputs": [],
   "source": [
    "def GenerateRandomNumbers_QC(circuit, sample_size):\n",
    "    \"\"\"\n",
    "    Input:\n",
    "        circuit | qiskit.circuit | establish a circuit to randomly generate 8-bit binary numbers\n",
    "        sample_size | int | number of iterations to generate 8-bit numbers\n",
    "    Output:\n",
    "        numbers | list(int) | list of binary numbers generated by the circuit\n",
    "    \"\"\"   \n",
    "    \n",
    "    # generate binary numbers\n",
    "    binary_numbers = execute(\n",
    "        experiments = circuit,\n",
    "        backend = BasicAer.get_backend('qasm_simulator'),\n",
    "        shots = sample_size,\n",
    "        memory = True\n",
    "    )\n",
    "    \n",
    "    # convert binary numbers to integers\n",
    "    numbers = np.array([int(i, 2) for i in binary_numbers.result().get_memory()])\n",
    "    \n",
    "    return numbers"
   ]
  },
  {
   "cell_type": "markdown",
   "id": "2f9bb445",
   "metadata": {},
   "source": [
    "#### 4.1 Define Functions - NormalizeNumbers"
   ]
  },
  {
   "cell_type": "code",
   "execution_count": 9,
   "id": "5c32fc57",
   "metadata": {},
   "outputs": [],
   "source": [
    "def NormalizeNumbers(numbers):\n",
    "    \"\"\"\n",
    "    Input:\n",
    "        numbers | list(int) | list of binary numbers generated by the circuit\n",
    "    Output:\n",
    "        normalized_values | list(float) | list of normalized numbers between [0,1]\n",
    "    \"\"\"\n",
    "    minimum = min(numbers)\n",
    "    maximum = max(numbers)\n",
    "    \n",
    "    normalized_values = np.array([(num - maximum) / (maximum - minimum) for num in numbers])\n",
    "    \n",
    "    return normalized_values"
   ]
  },
  {
   "cell_type": "markdown",
   "id": "991d2762",
   "metadata": {},
   "source": [
    "#### 4.2 Perform Computations"
   ]
  },
  {
   "cell_type": "code",
   "execution_count": null,
   "id": "9fd601b2",
   "metadata": {
    "scrolled": true
   },
   "outputs": [
    {
     "name": "stdout",
     "output_type": "stream",
     "text": [
      "100\n",
      "1000\n",
      "10000\n",
      "100000\n",
      "1000000\n",
      "10000000\n",
      "100000000\n"
     ]
    }
   ],
   "source": [
    "# establish circute\n",
    "bits = 8\n",
    "circuit = CreateCircuit(bits = bits)\n",
    "\n",
    "# establish lists to hold recorded values\n",
    "pi_approximation_list = []\n",
    "population_list = []\n",
    "duration = [] \n",
    "\n",
    "# perform iterations    \n",
    "for sample_size in [int(1e2), int(1e3), int(1e4), int(1e5), int(1e6), int(1e7), int(1e8)]:\n",
    "\n",
    "    print(sample_size)\n",
    "        \n",
    "    # measure start time\n",
    "    start = time.time()   \n",
    "    \n",
    "    # generate x values\n",
    "    x = NormalizeNumbers(GenerateRandomNumbers_QC(circuit = circuit, sample_size = sample_size))\n",
    "    # generate y values\n",
    "    y = NormalizeNumbers(GenerateRandomNumbers_QC(circuit = circuit, sample_size = sample_size))\n",
    "    \n",
    "    # create MC\n",
    "    mc_values = np.sqrt(np.square(x) + np.square(y))\n",
    "    pi_approximation = 4*len(mc_values[mc_values <= 1]) / len(x)\n",
    "    \n",
    "    # measure stop time\n",
    "    stop = time.time()\n",
    "    \n",
    "    # record keeping\n",
    "    duration.append(stop-start)        \n",
    "    pi_approximation_list.append(pi_approximation)\n",
    "    population_list.append(sample_size)"
   ]
  },
  {
   "cell_type": "markdown",
   "id": "d6ceefcf",
   "metadata": {},
   "source": [
    "#### 4.3 Construct Records DataFrame"
   ]
  },
  {
   "cell_type": "code",
   "execution_count": null,
   "id": "6d60c18a",
   "metadata": {},
   "outputs": [],
   "source": [
    "QuantumComputing_Performance = (\n",
    "    pd\n",
    "    .DataFrame(\n",
    "        data = list(zip(pi_approximation_list, population_list, duration)),\n",
    "        columns = ['pi_approximatation', 'population', 'duration']\n",
    "    )\n",
    "    .assign(        \n",
    "        error = lambda x: x['pi_approximatation'] - np.pi\n",
    "    )   \n",
    ")\n",
    "\n",
    "display(QuantumComputing_Performance)"
   ]
  },
  {
   "cell_type": "markdown",
   "id": "a67af6cc",
   "metadata": {},
   "source": [
    "### 5. Analysis of Performance"
   ]
  },
  {
   "cell_type": "markdown",
   "id": "1b76f143",
   "metadata": {},
   "source": [
    "#### 5.1 Construct $\\pi$ Approximation Performance DataFrame"
   ]
  },
  {
   "cell_type": "code",
   "execution_count": null,
   "id": "9e3bc725",
   "metadata": {},
   "outputs": [],
   "source": [
    "TaylorSeries_Performance = TaylorSeries_Performance.assign(method = 'TaylorSeries')\n",
    "Numpy_Performance = Numpy_Performance.assign(method = 'NumpyMC')\n",
    "QuantumComputing_Performance = QuantumComputing_Performance.assign(method = 'QCMC')\n",
    "\n",
    "Performance_DataFrame = (\n",
    "    pd\n",
    "    .concat(\n",
    "        [TaylorSeries_Performance, Numpy_Performance, QuantumComputing_Performance]\n",
    "    )\n",
    "    [['method', 'population', 'duration', 'pi_approximatation', 'error']]\n",
    ")"
   ]
  },
  {
   "cell_type": "markdown",
   "id": "3c7f717a",
   "metadata": {},
   "source": [
    "#### 5.2 Plot Sample Size vs. $\\pi$ Approximation"
   ]
  },
  {
   "cell_type": "code",
   "execution_count": null,
   "id": "41d95c82",
   "metadata": {},
   "outputs": [],
   "source": [
    "fig, ax0 = plt.subplots()\n",
    "\n",
    "for algorithm in ['TaylorSeries', 'NumpyMC', 'QCMC']:\n",
    "    (\n",
    "        Performance_DataFrame\n",
    "        .query(f\"method == '{algorithm}'\")\n",
    "        .assign(log_pop = lambda x: np.log10(x['population']))\n",
    "        .plot(\n",
    "            x = 'log_pop',\n",
    "            y = 'pi_approximatation',\n",
    "            ax = ax0,\n",
    "            style = \"o--\",\n",
    "            markersize = 10,            \n",
    "            xlabel = \"log10 Computational Iterations\",\n",
    "            ylabel = \"Approximation to Pi\",\n",
    "            title = \"Iterative Approximation of Pi\",\n",
    "            figsize = (16, 5),\n",
    "        )\n",
    "    )\n",
    "    \n",
    "ax0.legend(['TaylorSeries', 'NumpyMC', 'QCMC'])\n",
    "plt.axhline(\n",
    "    y = np.pi,\n",
    "    xmin = 0, xmax = Performance_DataFrame.population.max(),\n",
    "    color = 'red',\n",
    "    linewidth = 2,\n",
    "    linestyle = 'dotted'\n",
    ")"
   ]
  },
  {
   "cell_type": "markdown",
   "id": "6c092b48",
   "metadata": {},
   "source": [
    "#### 5.3 Plot Sample Size vs. $\\pi$ Approximation Error"
   ]
  },
  {
   "cell_type": "code",
   "execution_count": null,
   "id": "8f32a15b",
   "metadata": {},
   "outputs": [],
   "source": [
    "fig, ax0 = plt.subplots()\n",
    "\n",
    "for algorithm in ['TaylorSeries', 'NumpyMC', 'QCMC']:\n",
    "    (\n",
    "        Performance_DataFrame\n",
    "        .query(f\"method == '{algorithm}'\")\n",
    "        .assign(log_pop = lambda x: np.log10(x['population']))\n",
    "        .plot(\n",
    "            x = 'log_pop',\n",
    "            y = 'error',\n",
    "            ax = ax0,\n",
    "            style = \"o--\",\n",
    "            markersize = 10,            \n",
    "            xlabel = \"log10 Computational Iterations\",\n",
    "            ylabel = \"Error\",\n",
    "            title = \"Error Approximation of Pi\",\n",
    "            figsize = (16, 5),\n",
    "        )\n",
    "    )\n",
    "    \n",
    "ax0.legend(['TaylorSeries', 'NumpyMC', 'QCMC'])\n",
    "plt.axhline(\n",
    "    y = 0,\n",
    "    xmin = 0, xmax = Performance_DataFrame.population.max(),\n",
    "    color = 'red',\n",
    "    linewidth = 2,\n",
    "    linestyle = 'dotted'\n",
    ")"
   ]
  },
  {
   "cell_type": "markdown",
   "id": "1edb397d",
   "metadata": {},
   "source": [
    "#### 5.4 Plot Computational Time vs. $\\pi$ Approximation Error"
   ]
  },
  {
   "cell_type": "code",
   "execution_count": null,
   "id": "08c8314b",
   "metadata": {},
   "outputs": [],
   "source": [
    "fig, ax0 = plt.subplots()\n",
    "\n",
    "for algorithm in ['TaylorSeries', 'NumpyMC', 'QCMC']:\n",
    "    (\n",
    "        Performance_DataFrame\n",
    "        .query(f\"method == '{algorithm}'\")\n",
    "        .assign(\n",
    "            log_pop = lambda x: np.log10(x['population']),\n",
    "            log_duration = lambda x: np.log(x['duration'])\n",
    "        )\n",
    "        .sort_values('log_duration')\n",
    "        .plot(\n",
    "            x = 'log_duration',\n",
    "            y = 'error',\n",
    "            ax = ax0,\n",
    "            alpha = 0.6,\n",
    "            style = \"o--\",            \n",
    "            markersize = 10,\n",
    "            xlabel = \"log10 Computational Duration log10(seconds)\",\n",
    "            ylabel = \"Error Approximation to Pi\",\n",
    "            title = \"Duration anad Error Pi\",\n",
    "            figsize = (16, 5),\n",
    "        )\n",
    "    )\n",
    "    \n",
    "ax0.legend(['TaylorSeries', 'NumpyMC', 'QCMC'])\n",
    "plt.axhline(\n",
    "    y = 0,\n",
    "    xmin = 0, xmax = Performance_DataFrame.population.max(),\n",
    "    color = 'red',\n",
    "    linewidth = 2,\n",
    "    linestyle = 'dotted'\n",
    ")"
   ]
  },
  {
   "cell_type": "markdown",
   "id": "c8c356e2",
   "metadata": {},
   "source": [
    "### 6. Conclusion"
   ]
  },
  {
   "cell_type": "code",
   "execution_count": null,
   "id": "82329757",
   "metadata": {},
   "outputs": [],
   "source": []
  },
  {
   "cell_type": "code",
   "execution_count": null,
   "id": "4670b802",
   "metadata": {},
   "outputs": [],
   "source": []
  },
  {
   "cell_type": "code",
   "execution_count": null,
   "id": "d0395d1f",
   "metadata": {},
   "outputs": [],
   "source": []
  },
  {
   "cell_type": "code",
   "execution_count": null,
   "id": "35341f38",
   "metadata": {},
   "outputs": [],
   "source": []
  },
  {
   "cell_type": "code",
   "execution_count": null,
   "id": "110d8c0e",
   "metadata": {},
   "outputs": [],
   "source": []
  },
  {
   "cell_type": "code",
   "execution_count": null,
   "id": "775dbcab",
   "metadata": {},
   "outputs": [],
   "source": []
  },
  {
   "cell_type": "code",
   "execution_count": null,
   "id": "6336aac6",
   "metadata": {},
   "outputs": [],
   "source": []
  },
  {
   "cell_type": "code",
   "execution_count": null,
   "id": "ba7e1ab6",
   "metadata": {},
   "outputs": [],
   "source": []
  }
 ],
 "metadata": {
  "kernelspec": {
   "display_name": "Python 3 (ipykernel)",
   "language": "python",
   "name": "python3"
  },
  "language_info": {
   "codemirror_mode": {
    "name": "ipython",
    "version": 3
   },
   "file_extension": ".py",
   "mimetype": "text/x-python",
   "name": "python",
   "nbconvert_exporter": "python",
   "pygments_lexer": "ipython3",
   "version": "3.9.12"
  }
 },
 "nbformat": 4,
 "nbformat_minor": 5
}
