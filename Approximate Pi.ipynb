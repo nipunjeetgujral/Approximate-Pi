{
 "cells": [
  {
   "cell_type": "markdown",
   "id": "da4523f2",
   "metadata": {},
   "source": [
    "<br>\n",
    "\n",
    "<h1>\n",
    "    <center>\n",
    "        Estimating $\\pi$ using Various Methods\n",
    "    </center>\n",
    "</h1>\n",
    "\n",
    "---\n",
    "\n",
    "<br>\n",
    "\n",
    "<h3>\n",
    "    <center>\n",
    "        By:\n",
    "    </center>   \n",
    "    <br>\n",
    "        <center>\n",
    "            Nipunjeet Singh Gujral\n",
    "        </center>    \n",
    "    </br>\n",
    "</h3>"
   ]
  },
  {
   "cell_type": "markdown",
   "id": "1b98e972",
   "metadata": {},
   "source": [
    "## Table of Contents\n",
    "\n",
    "\n",
    "0. [Defining Problem](#0.-Defining-Problem)\n",
    "1. [Import Libraries](#1.-Import-Libraries)\n",
    "2. [Estimate $\\pi$ using Taylor Series Expansion (TCE) ](#2.-Estimate-$\\pi$-using-Taylor-Series-Expansion) \n",
    "    * 2.1 Define Functions\n",
    "        * GenerateTaylorSeries\n",
    "    * 2.2 Perform Computations\n",
    "    * 2.3 Construct Records DataFrame\n",
    "3. [Estimate $\\pi$ using Monte Carlo Simulation with Numpy (NumpyMC)](#3.-Estimate-$\\pi$-using-Monte-Carlo-Simulation-with-Numpy)\n",
    "    * 3.1 Perform Numpy Computations\n",
    "    * 3.2 Construct Records DataFrame\n",
    "4. [Estimate $\\pi$ using Quantum Monte Carlo Simulation (QCMC)](#4.-Estimate-$\\pi$-using-Quantum-Monte-Carlo-Simulation) \n",
    "    * 4.1 Define Functions\n",
    "        * CreateCircuit\n",
    "        * GenerateRandomNumbers_QC\n",
    "        * NormalizeNumbers\n",
    "    * 4.2 Perform Computations\n",
    "    * 4.3 Construct Performance DataFrame\n",
    "5. [Analysis of Performance](#5.-Analysis-of-Performance)\n",
    "    * 5.1 Construct $\\pi$ Approximation Performance DataFrame\n",
    "    * 5.2 Save Performance DataFrame as csv\n",
    "    * 5.3 Plot Sample Size vs. $\\pi$ Approximation\n",
    "    * 5.4 Plot Sample Size vs. $\\pi$ Approximation Error\n",
    "    * 5.5 Plot Computational Time vs. $\\pi$ Approximation Error\n",
    "    * 5.6 Plot  $\\pi$ Approximation Error vs. $Log_{10}$(Population)\n",
    "    * 5.7 Measure Corrilation between $\\pi$ Approximation Error and Sample Size\n",
    "6. [Conclusion - Which is better?](#6.-Conclusion)\n",
    "\n",
    "7. [Visualize Approximation of $\\pi$](#7.-Visualize-Approximation-of-$\\pi$)\n",
    "    * 7.1 Talor Series Approximation of $\\pi$\n",
    "    * 7.2 Monte Carlo Approximation of $\\pi$"
   ]
  },
  {
   "cell_type": "markdown",
   "id": "67dad52e",
   "metadata": {},
   "source": [
    "### 0. Defining Problem\n",
    "\n",
    "<br>\n",
    "\n",
    "<p>The famously irrational number $\\pi$ in a number than can be conceptuialized by humans and used regularly in computations by simpily using symbology as means of representing all the copmlexity imbune with $\\pi$. But for a computer, such an irrational number can provide to be difficult due to limitation in memory and the utlization of the Base-2 (binary) number system. We as humans have therefore devised methods of approximating $\\pi$ using computational method dependent on iterative estimations that provide a closer approximation to true $\\pi$. The following code will use various methods to approximate $\\pi$ and include analysis on which method provides that most accruate and speedy approximatation of $\\pi$. \n",
    "</p>\n",
    "\n",
    "Regarding the methods used to estimate $\\pi$, I chose to use the Talor Series Expansion (TSE) method and two variations of Monte Carlo Simulation (MCS) methods to test which method more accurately and rapidly approximates $\\pi$ as listed below:\n",
    "\n",
    "<br>\n",
    "\n",
    "#### Approximating $\\pi$ via the Taylor Series Expansion:\n",
    "\n",
    "$$\\pi = 4 \\sum_{i=1}^{n} \\frac{(-1)^{n}}{2n-1}$$\n",
    "\n",
    "$$ \\pi = 4 \\left( 1 - \\frac{1}{3} + \\frac{1}{5} - \\frac{1}{7} + \\frac{1}{9} ... \\frac{1}{n} \\right) = 3.1415926...$$\n",
    "\n",
    "<br>\n",
    "\n",
    "#### Aproximating $\\pi$ via Monte Carlo Simulation:\n",
    "\n",
    "\n",
    "![MC_Simulation](./Monte_Carlo_Approximation.gif)\n",
    "\n",
    "\n",
    "<br>\n",
    "\n",
    "However two variations of MCS are used; one method involving the traditional _Numpy_ library from which so much of Python is based on, and the other involves the use of **IBM's Quantum Computing** simulator via the _Qiskit_ library. Implicitly the MCS method of approximting $\\pi$ relies on the utilization of random numbers and is therefore best suited for the application of a Quantum Computer, as such machines are fickle to say the least. The errant and unreliable nature of the current iterations of quantum computers provides a degree of randomness that would be best suited in this application as it might accelerate the approximation of $\\pi$ by using fewer iterations to produces a reasonable answer.\n",
    "\n",
    "<br>\n",
    "\n",
    "#### Test and Evaluation:\n",
    "\n",
    "Testing and evaluating the aforementioned algorithms require the use of large populations within whihc iterative computations can take-place. This below code uses test populations of $10^{2}, 10^{3}, 10^{4}, 10^{5}, 10^{6}, 10^{7}$ and $10^{8}$ to test the accuracy and speed of the algorithms at large scale and to illustrate any asymptotic behaviors."
   ]
  },
  {
   "cell_type": "markdown",
   "id": "ff1cc884",
   "metadata": {},
   "source": [
    "### 1. Import Libraries"
   ]
  },
  {
   "cell_type": "code",
   "execution_count": null,
   "id": "b60ce4d9",
   "metadata": {},
   "outputs": [],
   "source": [
    "# import visulaization tool\n",
    "import seaborn as sns\n",
    "import matplotlib.pyplot as plt\n",
    "\n",
    "# import numerical processing tool\n",
    "import numpy as np\n",
    "np.random.seed(1234)\n",
    "\n",
    "# import quantum simulation tools\n",
    "from qiskit import QuantumRegister, ClassicalRegister, QuantumCircuit\n",
    "from qiskit import BasicAer, execute\n",
    "import pylatexenc\n",
    "\n",
    "# data handeling\n",
    "import pandas as pd\n",
    "\n",
    "# measure time/duration \n",
    "import time\n",
    "\n",
    "# suppress warnings\n",
    "import warnings\n",
    "warnings.filterwarnings('ignore')"
   ]
  },
  {
   "cell_type": "markdown",
   "id": "8ad2fd4e",
   "metadata": {},
   "source": [
    "### 2. Estimate $\\pi$ using Taylor Series Expansion\n",
    "\n",
    "$$\\pi = 4 \\sum_{i=1}^{n} \\frac{(-1)^{n}}{2n-1} = 4  \\left( 1 - \\frac{1}{3} + \\frac{1}{5} - \\frac{1}{7} + \\frac{1}{9} ... \\frac{1}{n }\\right)$$\n"
   ]
  },
  {
   "cell_type": "markdown",
   "id": "901babc4",
   "metadata": {},
   "source": [
    "#### 2.1 Define Functions - GenerateTaylorSeries"
   ]
  },
  {
   "cell_type": "code",
   "execution_count": null,
   "id": "7eb4d1f9",
   "metadata": {},
   "outputs": [],
   "source": [
    "def GenerateTaylorSeries(x):\n",
    "    \"\"\"\n",
    "    Input:\n",
    "        x | int | numebr of iterations to approximate taylor series expansion pi/4\n",
    "    Output:\n",
    "        pi_aproximation | float | approximation of pi        \n",
    "    \"\"\"\n",
    "        \n",
    "    iteration_value = [(1**(2*i+1)*(-1)**i)/(2*i+1) for i in np.arange(x)]\n",
    "    summation = np.sum(iteration_value)\n",
    "    pi_approximation = 4 * summation\n",
    "        \n",
    "    return pi_approximation"
   ]
  },
  {
   "cell_type": "markdown",
   "id": "39715aca",
   "metadata": {},
   "source": [
    "#### 2.2 Perform Computations\n"
   ]
  },
  {
   "cell_type": "code",
   "execution_count": null,
   "id": "5b7a1a05",
   "metadata": {},
   "outputs": [],
   "source": [
    "# establish lists to hold recorded values\n",
    "pi_approximation_list = []\n",
    "population_list = []\n",
    "duration = [] \n",
    "\n",
    "for sample_size in [int(1e2), int(1e3), int(1e4), int(1e5), int(1e6), int(1e7), int(1e8)]:\n",
    "\n",
    "    print(f'{sample_size}')\n",
    "        \n",
    "    # measure start time\n",
    "    start = time.time()   \n",
    "    \n",
    "    # generate taylor series\n",
    "    pi_approximation = GenerateTaylorSeries(x = sample_size)\n",
    "    \n",
    "    # measure stop time\n",
    "    stop = time.time()\n",
    "    \n",
    "    # record keeping\n",
    "    duration.append(stop-start)        \n",
    "    pi_approximation_list.append(pi_approximation)\n",
    "    population_list.append(sample_size)\n",
    "    "
   ]
  },
  {
   "cell_type": "markdown",
   "id": "a86ac242",
   "metadata": {},
   "source": [
    "#### 2.3 Construct Records DataFrame"
   ]
  },
  {
   "cell_type": "code",
   "execution_count": null,
   "id": "4c6e673c",
   "metadata": {},
   "outputs": [],
   "source": [
    "TaylorSeries_Performance = (\n",
    "    pd.DataFrame(\n",
    "        data = list(zip(pi_approximation_list, population_list, duration)),\n",
    "        columns = ['pi_approximatation', 'population', 'duration']\n",
    "    )\n",
    "    .assign(        \n",
    "        error = lambda x: x['pi_approximatation'] - np.pi\n",
    "    )   \n",
    ")\n",
    "\n",
    "display(TaylorSeries_Performance)"
   ]
  },
  {
   "cell_type": "markdown",
   "id": "3c2884cc",
   "metadata": {},
   "source": [
    "### 3. Estimate $\\pi$ using Monte Carlo Simulation with Numpy"
   ]
  },
  {
   "cell_type": "markdown",
   "id": "641090c8",
   "metadata": {},
   "source": [
    "#### 3.1 Perform Numpy Computations"
   ]
  },
  {
   "cell_type": "code",
   "execution_count": null,
   "id": "553686ac",
   "metadata": {
    "scrolled": true
   },
   "outputs": [],
   "source": [
    "# establish lists to hold recorded values\n",
    "pi_approximation_list = []\n",
    "population_list = []\n",
    "duration = [] \n",
    "\n",
    "for sample_size in [int(1e2), int(1e3), int(1e4), int(1e5), int(1e6), int(1e7), int(1e8)]:\n",
    "\n",
    "    print(f'{sample_size}')\n",
    "        \n",
    "    # measure start time\n",
    "    start = time.time()   \n",
    "    \n",
    "    # generate x values\n",
    "    x = np.random.random_sample(sample_size)\n",
    "    # generate y values\n",
    "    y = np.random.random_sample(sample_size)\n",
    "    \n",
    "    # create MC \n",
    "    mc_values = np.sqrt(np.square(x) + np.square(y))\n",
    "    pi_approximation = 4*len(mc_values[mc_values <= 1]) / len(x)\n",
    "    \n",
    "    # measure stop time\n",
    "    stop = time.time()\n",
    "    \n",
    "    # record keeping\n",
    "    duration.append(stop-start)        \n",
    "    pi_approximation_list.append(pi_approximation)\n",
    "    population_list.append(sample_size)"
   ]
  },
  {
   "cell_type": "markdown",
   "id": "85cfe7d3",
   "metadata": {},
   "source": [
    "#### 3.2 Construct Records DataFrame"
   ]
  },
  {
   "cell_type": "code",
   "execution_count": null,
   "id": "46c22dd3",
   "metadata": {},
   "outputs": [],
   "source": [
    "Numpy_Performance = (\n",
    "    pd.DataFrame(\n",
    "        data = list(zip(pi_approximation_list, population_list, duration)),\n",
    "        columns = ['pi_approximatation', 'population', 'duration']\n",
    "    )\n",
    "    .assign(        \n",
    "        error = lambda x: x['pi_approximatation'] - np.pi\n",
    "    )   \n",
    ")\n",
    "\n",
    "display(Numpy_Performance)"
   ]
  },
  {
   "cell_type": "markdown",
   "id": "32f67be3",
   "metadata": {},
   "source": [
    "### 4. Estimate $\\pi$ using Quantum Monte Carlo Simulation\n",
    "\n",
    "\n",
    "<br>\n",
    "\n",
    "The following code uses an 8-bit Qunautm Computing system to generate binary associted with number rangeing from $[-127, 128]$ for use later in Monte Carlo Simulation. As previously stated, the introduction of random variation induced from a quntuam comptuer may improve the speed and accuracy assocaited with approximating $\\pi$. The Monte Carlo simulation performed using Numpy however requires numbers between $[0,1]$ and will therefore require the QCMC algorithm to undergo an additional step of normalizing values to be within the required range to be tested on an apples-to-apples basis against the Numpy variation. For the puposes of evaluting the speed however, the QCMC algorithm will only judged on by the speed required to to construct the aforementioned 8-bit numbers.\n",
    "\n",
    "<br>\n",
    "\n",
    "Below is an image of the Quantum Computing Circuit used to generate the numbers, each _Q-bit_ has a single Hadamar Gate applied to it prior to the final Measurement stage for the sake of simplicity:\n",
    "\n",
    "<br> \n",
    "\n",
    "![Q-Circuit](./Quantum_Circuit_8_bit.png)"
   ]
  },
  {
   "cell_type": "markdown",
   "id": "f6118998",
   "metadata": {},
   "source": [
    "#### 4.1 Define Functions - CreateCircuit"
   ]
  },
  {
   "cell_type": "code",
   "execution_count": null,
   "id": "344c64d8",
   "metadata": {},
   "outputs": [],
   "source": [
    "def CreateCircuit(bits):\n",
    "    \"\"\"\n",
    "    Input:\n",
    "        bits | int | defines how many q-bits the circuit involves\n",
    "    Output:\n",
    "        circuit | qiskit.circuit | establish a circuit to randomly generate 8-bit binary numbers\n",
    "        circuit_diagram | matplotlib.figure | figure that depicts the q-bit to c-bit figure\n",
    "    \"\"\"    \n",
    "    \n",
    "    # define quantum register | classical register\n",
    "    q = QuantumRegister(bits);  c = ClassicalRegister(bits)\n",
    "    \n",
    "    # define circuit\n",
    "    circuit = QuantumCircuit(q, c)\n",
    "    \n",
    "    # use for loops to add q-bits and hadamar gates to the existing circuit\n",
    "    for j in range(bits): circuit.h(q[j])\n",
    "    \n",
    "    # add measurements to transfer from q-bit to classical-bit\n",
    "    circuit.measure(q, c)\n",
    "    \n",
    "    # draw circuit\n",
    "    circuit_drawing = circuit.draw(output='mpl')\n",
    "    \n",
    "    # return circuit and drawing\n",
    "    #return (circuit, circuit_drawing)\n",
    "    return circuit"
   ]
  },
  {
   "cell_type": "markdown",
   "id": "998cb103",
   "metadata": {},
   "source": [
    "#### 4.1 Define Functions - GenerateRandomNumbers_QC"
   ]
  },
  {
   "cell_type": "code",
   "execution_count": null,
   "id": "7194bcf9",
   "metadata": {},
   "outputs": [],
   "source": [
    "def GenerateRandomNumbers_QC(circuit, sample_size):\n",
    "    \"\"\"\n",
    "    Input:\n",
    "        circuit | qiskit.circuit | establish a circuit to randomly generate 8-bit binary numbers\n",
    "        sample_size | int | number of iterations to generate 8-bit numbers\n",
    "    Output:\n",
    "        numbers | list(int) | list of binary numbers generated by the circuit\n",
    "    \"\"\"   \n",
    "    \n",
    "    # generate binary numbers\n",
    "    binary_numbers = execute(\n",
    "        experiments = circuit,\n",
    "        backend = BasicAer.get_backend('qasm_simulator'),\n",
    "        shots = sample_size,\n",
    "        memory = True\n",
    "    )\n",
    "    \n",
    "    # convert binary numbers to integers\n",
    "    numbers = np.array([int(i, 2) for i in binary_numbers.result().get_memory()])\n",
    "    \n",
    "    return numbers"
   ]
  },
  {
   "cell_type": "markdown",
   "id": "3d5c024d",
   "metadata": {},
   "source": [
    "#### 4.1 Define Functions - NormalizeNumbers"
   ]
  },
  {
   "cell_type": "code",
   "execution_count": null,
   "id": "06a036fb",
   "metadata": {},
   "outputs": [],
   "source": [
    "def NormalizeNumbers(numbers):\n",
    "    \"\"\"\n",
    "    Input:\n",
    "        numbers | list(int) | list of binary numbers generated by the circuit\n",
    "    Output:\n",
    "        normalized_values | list(float) | list of normalized numbers between [0,1]\n",
    "    \"\"\"\n",
    "    minimum = min(numbers)\n",
    "    maximum = max(numbers)\n",
    "    \n",
    "    normalized_values = np.array([(num - maximum) / (maximum - minimum) for num in numbers])\n",
    "    \n",
    "    return normalized_values"
   ]
  },
  {
   "cell_type": "markdown",
   "id": "0f493942",
   "metadata": {},
   "source": [
    "#### 4.2 Perform Computations"
   ]
  },
  {
   "cell_type": "code",
   "execution_count": null,
   "id": "fc848acd",
   "metadata": {
    "scrolled": true
   },
   "outputs": [],
   "source": [
    "# establish circute\n",
    "bits = 8\n",
    "circuit = CreateCircuit(bits = bits)\n",
    "\n",
    "# establish lists to hold recorded values\n",
    "pi_approximation_list = []\n",
    "population_list = []\n",
    "duration = [] \n",
    "\n",
    "# perform iterations    \n",
    "for sample_size in [int(1e2), int(1e3), int(1e4), int(1e5), int(1e6), int(1e7), int(1e8)]:\n",
    "\n",
    "    print(sample_size)\n",
    "        \n",
    "    # measure start time\n",
    "    start = time.time()   \n",
    "    \n",
    "    # generate x values\n",
    "    x = NormalizeNumbers(GenerateRandomNumbers_QC(circuit = circuit, sample_size = sample_size))\n",
    "    # generate y values\n",
    "    y = NormalizeNumbers(GenerateRandomNumbers_QC(circuit = circuit, sample_size = sample_size))\n",
    "    \n",
    "    # create MC\n",
    "    mc_values = np.sqrt(np.square(x) + np.square(y))\n",
    "    pi_approximation = 4*len(mc_values[mc_values <= 1]) / len(x)\n",
    "    \n",
    "    # measure stop time\n",
    "    stop = time.time()\n",
    "    \n",
    "    # record keeping\n",
    "    duration.append(stop-start)        \n",
    "    pi_approximation_list.append(pi_approximation)\n",
    "    population_list.append(sample_size)"
   ]
  },
  {
   "cell_type": "markdown",
   "id": "4d30f67f",
   "metadata": {},
   "source": [
    "#### 4.3 Construct Records DataFrame"
   ]
  },
  {
   "cell_type": "code",
   "execution_count": null,
   "id": "5c39da78",
   "metadata": {},
   "outputs": [],
   "source": [
    "QuantumComputing_Performance = (\n",
    "    pd.DataFrame(\n",
    "        data = list(zip(pi_approximation_list, population_list, duration)),\n",
    "        columns = ['pi_approximatation', 'population', 'duration']\n",
    "    )\n",
    "    .assign(        \n",
    "        error = lambda x: x['pi_approximatation'] - np.pi\n",
    "    )   \n",
    ")\n",
    "\n",
    "display(QuantumComputing_Performance)"
   ]
  },
  {
   "cell_type": "markdown",
   "id": "882f6379",
   "metadata": {},
   "source": [
    "### 5. Analysis of Performance"
   ]
  },
  {
   "cell_type": "markdown",
   "id": "81a58039",
   "metadata": {},
   "source": [
    "#### 5.1 Construct $\\pi$ Approximation Performance DataFrame"
   ]
  },
  {
   "cell_type": "code",
   "execution_count": null,
   "id": "a767f145",
   "metadata": {},
   "outputs": [],
   "source": [
    "TaylorSeries_Performance = TaylorSeries_Performance.assign(method = 'TaylorSeries')\n",
    "Numpy_Performance = Numpy_Performance.assign(method = 'NumpyMC')\n",
    "QuantumComputing_Performance = QuantumComputing_Performance.assign(method = 'QCMC')\n",
    "\n",
    "Performance_DataFrame = (\n",
    "    pd.concat(\n",
    "        [TaylorSeries_Performance, Numpy_Performance, QuantumComputing_Performance]\n",
    "    )\n",
    "    [['method', 'population', 'duration', 'pi_approximatation', 'error']]\n",
    ")"
   ]
  },
  {
   "cell_type": "markdown",
   "id": "30b6922c",
   "metadata": {},
   "source": [
    "####  5.2 Save Performance DataFrame as csv"
   ]
  },
  {
   "cell_type": "code",
   "execution_count": null,
   "id": "bc8416ec",
   "metadata": {},
   "outputs": [],
   "source": [
    "Performance_DataFrame.to_csv(\"./Pi_Approximation_Performance_Record.csv\", index = False)"
   ]
  },
  {
   "cell_type": "markdown",
   "id": "77149fba",
   "metadata": {},
   "source": [
    "#### 5.3 Plot Sample Size vs. $\\pi$ Approximation"
   ]
  },
  {
   "cell_type": "code",
   "execution_count": null,
   "id": "01829f18",
   "metadata": {},
   "outputs": [],
   "source": [
    "fig, ax0 = plt.subplots()\n",
    "\n",
    "for algorithm in ['TaylorSeries', 'NumpyMC', 'QCMC']:\n",
    "    (\n",
    "        Performance_DataFrame\n",
    "        .query(f\"method == '{algorithm}'\")\n",
    "        .assign(log_pop = lambda x: np.log10(x['population']))\n",
    "        .plot(\n",
    "            x = 'log_pop',\n",
    "            y = 'pi_approximatation',\n",
    "            ax = ax0,\n",
    "            alpha = 0.6,\n",
    "            style = \"o--\",            \n",
    "            markersize = 10,            \n",
    "            xlabel = \"log10 Computational Iterations\",\n",
    "            ylabel = \"Approximation to Pi\",\n",
    "            title = \"Iterative Approximation of Pi\",\n",
    "            figsize = (16, 5),\n",
    "        )\n",
    "    )\n",
    "    \n",
    "ax0.legend(['TaylorSeries', 'NumpyMC', 'QCMC'])\n",
    "plt.axhline(\n",
    "    y = np.pi,\n",
    "    xmin = 0, xmax = Performance_DataFrame.population.max(),\n",
    "    color = 'red',\n",
    "    linewidth = 2,\n",
    "    linestyle = 'dotted'\n",
    ")"
   ]
  },
  {
   "cell_type": "markdown",
   "id": "c065b929",
   "metadata": {},
   "source": [
    "#### 5.4 Plot $log_{10}$(Durations) vs. $\\pi$ Approximation Error"
   ]
  },
  {
   "cell_type": "code",
   "execution_count": null,
   "id": "125b1501",
   "metadata": {},
   "outputs": [],
   "source": [
    "fig, ax0 = plt.subplots()\n",
    "\n",
    "for algorithm in ['TaylorSeries', 'NumpyMC', 'QCMC']:\n",
    "    (\n",
    "        Performance_DataFrame\n",
    "        .query(f\"method == '{algorithm}'\")\n",
    "        .assign(log_pop = lambda x: np.log10(x['population']))\n",
    "        .plot(\n",
    "            x = 'log_pop',\n",
    "            y = 'error',\n",
    "            ax = ax0,\n",
    "            alpha = 0.6,\n",
    "            style = \"o--\",\n",
    "            markersize = 10,            \n",
    "            xlabel = \"log10 Computational Iterations\",\n",
    "            ylabel = \"Error\",\n",
    "            title = \"Error Approximation of Pi vs Number of Computational Samples\",\n",
    "            figsize = (16, 5),\n",
    "        )\n",
    "    )\n",
    "    \n",
    "ax0.legend(['TaylorSeries', 'NumpyMC', 'QCMC'])\n",
    "plt.axhline(\n",
    "    y = 0,\n",
    "    xmin = 0, xmax = Performance_DataFrame.population.max(),\n",
    "    color = 'red',\n",
    "    linewidth = 2,\n",
    "    linestyle = 'dotted'\n",
    ")"
   ]
  },
  {
   "cell_type": "markdown",
   "id": "afbd37a9",
   "metadata": {},
   "source": [
    "#### 5.5 Plot $log_{10}$(Durations) vs. $\\pi$ Approximation Error"
   ]
  },
  {
   "cell_type": "code",
   "execution_count": null,
   "id": "372085b7",
   "metadata": {},
   "outputs": [],
   "source": [
    "fig, ax0 = plt.subplots()\n",
    "\n",
    "for algorithm in ['TaylorSeries', 'NumpyMC', 'QCMC']:\n",
    "    (\n",
    "        Performance_DataFrame\n",
    "        .query(f\"method == '{algorithm}'\")\n",
    "        .assign(\n",
    "            log_pop = lambda x: np.log10(x['population']),\n",
    "            log_duration = lambda x: np.log(x['duration'])\n",
    "        )\n",
    "        .sort_values('log_duration')\n",
    "        .plot(\n",
    "            x = 'log_duration',\n",
    "            y = 'error',\n",
    "            ax = ax0,\n",
    "            alpha = 0.6,\n",
    "            style = \"o--\",            \n",
    "            markersize = 10,\n",
    "            xlabel = \"log10 Computational Duration log10(seconds)\",\n",
    "            ylabel = \"Error Approximation to Pi\",\n",
    "            title = \"Copmutational Duration and Pi Approximation Error\",\n",
    "            figsize = (16, 5),\n",
    "        )\n",
    "    )\n",
    "    \n",
    "ax0.legend(['TaylorSeries', 'NumpyMC', 'QCMC'])\n",
    "plt.axhline(\n",
    "    y = 0,\n",
    "    xmin = 0, xmax = Performance_DataFrame.population.max(),\n",
    "    color = 'red',\n",
    "    linewidth = 2,\n",
    "    linestyle = 'dotted'\n",
    ")"
   ]
  },
  {
   "cell_type": "markdown",
   "id": "d11e5835",
   "metadata": {},
   "source": [
    "#### 5.6 Plot  $\\pi$ Approximation Error vs. $Log_{10}$(Population)"
   ]
  },
  {
   "cell_type": "code",
   "execution_count": null,
   "id": "74510e47",
   "metadata": {},
   "outputs": [],
   "source": [
    "fig, ax0 = plt.subplots()\n",
    "\n",
    "for algorithm in ['TaylorSeries', 'NumpyMC', 'QCMC']:\n",
    "    (\n",
    "        Performance_DataFrame\n",
    "        .query(f\"method == '{algorithm}'\")\n",
    "        .assign(\n",
    "            log_pop = lambda x: np.log10(x['population']),\n",
    "            log_duration = lambda x: np.log(x['duration']),\n",
    "            abs_error = lambda x: abs(x['error'])\n",
    "        )\n",
    "        .sort_values('log_pop')\n",
    "        .plot(\n",
    "            x = 'log_pop',\n",
    "            y = 'abs_error',\n",
    "            ax = ax0,\n",
    "            alpha = 0.6,\n",
    "            style = \"o--\",            \n",
    "            markersize = 10,\n",
    "            xlabel = \"log10 Computational Duration log10(seconds)\",\n",
    "            ylabel = \"Error Approximation to Pi\",\n",
    "            title = \"Duration anad Pi Approximation Error\",\n",
    "            figsize = (16, 5),\n",
    "        )\n",
    "    )\n",
    "    \n",
    "ax0.legend(['TaylorSeries', 'NumpyMC', 'QCMC'])\n",
    "plt.axhline(\n",
    "    y = 0,\n",
    "    xmin = 0, xmax = Performance_DataFrame.population.max(),\n",
    "    color = 'red',\n",
    "    linewidth = 2,\n",
    "    linestyle = 'dotted'\n",
    ")"
   ]
  },
  {
   "cell_type": "markdown",
   "id": "605c2923",
   "metadata": {},
   "source": [
    "#### 5.7 Measure Corrilation between Pi Approximation Error and Sample Size"
   ]
  },
  {
   "cell_type": "code",
   "execution_count": null,
   "id": "06f5f11d",
   "metadata": {},
   "outputs": [],
   "source": [
    "for algorithm in ['TaylorSeries', 'NumpyMC', 'QCMC']:\n",
    "    display(\n",
    "        f\"Algorithm: {algorithm}\",\n",
    "        (\n",
    "            Performance_DataFrame\n",
    "            .query(\n",
    "                f\"method == '{algorithm}'\"\n",
    "            )\n",
    "            .assign(\n",
    "                log_pop = lambda x: np.log10(x['population']),\n",
    "                log_duration = lambda x: np.log(x['duration']),\n",
    "                abs_error = lambda x: abs(x['error'])\n",
    "            )        \n",
    "            [['population', 'abs_error']]\n",
    "            .corr()\n",
    "        )\n",
    "    )"
   ]
  },
  {
   "cell_type": "markdown",
   "id": "0faf30c3",
   "metadata": {},
   "source": [
    "### 6. Conclusion\n",
    "\n",
    "<br>\n",
    "\n",
    "#### Bottom Line Up Front (BLUF):\n",
    "\n",
    "Ranking the various algorithms by speed and accuracy:\n",
    "\n",
    "| Rank | Algorithm    |\n",
    "|------|--------------|\n",
    "| 1    | TaylorSeries |\n",
    "| 2    | NumpyMC      |\n",
    "| 3    | QCMC         |\n",
    "\n",
    "<br>\n",
    "\n",
    "#### Analysis:\n",
    "\n",
    "The series method of approxiamting $\\pi$ only requires one algorithmicaly generated list with which to perform computations. In constrast each of the _Monte Carlo Approximation_ methods requires two of the aforementioned algorithmically generated lists and should therefore be expected, and proven, to be less effecient that the aformentioned _Taylor Series Expansion_ method. Between the two varieties of the Monte Carlo Approximation method, the Numpy method performed faster and more accurately for population sizes greater than $10^{3}$ as compared to the Quantum Computing method. Incidently the corrilation between population size and absolute value of the Approximation Error are indeed negtively corrilated with various degrees of strength listed below:\n",
    "\n",
    "<br>\n",
    "\n",
    "| Method       | Corrilation |\n",
    "|--------------|-------------|\n",
    "| TaylorSeries | -0.211531   |\n",
    "| NumpyMC      | -0.324324   |\n",
    "| QCMC         | -0.195622   | \n",
    "\n",
    "<br>\n",
    "\n",
    "Although weakly corrilated the NumpyMC algorithm is almost twices a negatively corrilated as the QCMC algorithm futher providign evidence to the notation that the NumpyMC algorithm is faster and more accruate the the QCMC algorithm. In terms of approximation, the Taylor Series has an asymptotically oscillating decreasing margin of error as larger populations are used to approximate a solutions. In constrast the Monte Carlo method has a monotonically decreassing error as populations increase with the rate of decrease being faster with the Numpy variation than with the Quantum Computing variation.    "
   ]
  },
  {
   "cell_type": "markdown",
   "id": "7f19fe38",
   "metadata": {},
   "source": [
    "### 7. Visualize Approximation of $\\pi$"
   ]
  },
  {
   "cell_type": "markdown",
   "id": "841a23b1",
   "metadata": {},
   "source": [
    "#### 7.1 Talor Series Approximation of $\\pi$"
   ]
  },
  {
   "cell_type": "code",
   "execution_count": null,
   "id": "fae5994f",
   "metadata": {},
   "outputs": [],
   "source": [
    "sample_size = int(1e2)\n",
    "\n",
    "(\n",
    "    pd.DataFrame(\n",
    "        data = list(zip(\n",
    "            range(sample_size),           \n",
    "        )),\n",
    "        columns = ['sample']        \n",
    "    )\n",
    "    .assign(\n",
    "        approximation = lambda x: (1**(2*x['sample']+1)*(-1)**x['sample'])/(2*x['sample']+1),\n",
    "        pi = lambda x: abs(4*np.cumsum(x['approximation']))\n",
    "    )\n",
    "    .query(\"pi > 3.1 and pi < 3.19\")\n",
    "    .plot(\n",
    "        x = 'sample',\n",
    "        y = 'pi',   \n",
    "        style = \"o--\",            \n",
    "        markersize = 5,\n",
    "        xlabel = \"Sample Iteration\",\n",
    "        ylabel = \"Approximation to Pi\",\n",
    "        title = \"Approximation of Pi using Taylor Series\",\n",
    "        figsize = (16, 5),\n",
    "    )\n",
    ")\n",
    "\n",
    "\n",
    "plt.axhline(\n",
    "    y = np.pi,\n",
    "    xmin = 0, xmax = sample_size,\n",
    "    color = 'red',\n",
    "    linewidth = 2,\n",
    "    linestyle = 'dotted'\n",
    ")"
   ]
  },
  {
   "cell_type": "markdown",
   "id": "c4a4b96f",
   "metadata": {},
   "source": [
    "#### 7.2 Monte Carlo Approximation of $\\pi$"
   ]
  },
  {
   "cell_type": "code",
   "execution_count": null,
   "id": "293bb729",
   "metadata": {},
   "outputs": [],
   "source": [
    "def ConditionallyColor(x):\n",
    "    \"\"\"\n",
    "    Input:\n",
    "        x | list(float) | monte carlo simulation values\n",
    "    Output:\n",
    "        color | str | color associated with monte carlo visualization\n",
    "    \"\"\"\n",
    "    \n",
    "    if abs(x) <= 1:\n",
    "        color = 'blue'\n",
    "    else:\n",
    "        color = 'red'\n",
    "        \n",
    "    return color"
   ]
  },
  {
   "cell_type": "code",
   "execution_count": null,
   "id": "884992ef",
   "metadata": {
    "scrolled": true
   },
   "outputs": [],
   "source": [
    "sample_size = int(1e5)\n",
    "\n",
    "temp = (\n",
    "    pd.DataFrame(\n",
    "        data = list(zip(\n",
    "            np.arange(sample_size),\n",
    "            np.random.random_sample(sample_size),\n",
    "            np.random.random_sample(sample_size)\n",
    "        )),\n",
    "        columns = ['sample', 'x', 'y']\n",
    "    )\n",
    "    .assign(\n",
    "        mc_values =  lambda x: np.sqrt(np.square(x['x']) + np.square(x['y'])),\n",
    "        color = lambda x: x['mc_values'].map(ConditionallyColor)\n",
    "    )\n",
    ")\n",
    "\n",
    "(\n",
    "    temp\n",
    "    .plot(\n",
    "        x = 'x',\n",
    "        y = 'y',\n",
    "        alpha = 0.2,\n",
    "        kind = 'scatter',\n",
    "        color = temp['color'],\n",
    "        xlabel = \"X\",\n",
    "        ylabel = \"Y\",\n",
    "        title = f\"Approximating Pi using Monte Carlo Approximation \\nn = {sample_size} | pi = {pi_approximation}\",\n",
    "        figsize = (6,6)        \n",
    "    )\n",
    "    \n",
    ")"
   ]
  },
  {
   "cell_type": "code",
   "execution_count": null,
   "id": "e3a5e0cf",
   "metadata": {},
   "outputs": [],
   "source": []
  }
 ],
 "metadata": {
  "kernelspec": {
   "display_name": "Python 3 (ipykernel)",
   "language": "python",
   "name": "python3"
  },
  "language_info": {
   "codemirror_mode": {
    "name": "ipython",
    "version": 3
   },
   "file_extension": ".py",
   "mimetype": "text/x-python",
   "name": "python",
   "nbconvert_exporter": "python",
   "pygments_lexer": "ipython3",
   "version": "3.9.12"
  }
 },
 "nbformat": 4,
 "nbformat_minor": 5
}
