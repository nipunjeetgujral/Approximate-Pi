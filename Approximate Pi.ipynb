{
 "cells": [
  {
   "cell_type": "markdown",
   "id": "2765cd48",
   "metadata": {},
   "source": [
    "<br>\n",
    "\n",
    "<h1>\n",
    "    <center>\n",
    "        Estimating $\\pi$ using Various Methods\n",
    "    </center>\n",
    "</h1>"
   ]
  },
  {
   "cell_type": "markdown",
   "id": "afdc09ca",
   "metadata": {},
   "source": [
    "## Table of Contents\n",
    "\n",
    "\n",
    "0. [Define Problem](#0.-Define-Problem)\n",
    "1. [Import Libraries](#1.-Import-Libraries)\n",
    "2. [Estimate $\\pi$ using Taylor Series Expansion](#2.-Estimate-$\\pi$-using-Taylor-Series-Expansion) \n",
    "    * 2.1 Define Functions\n",
    "        * GenerateTaylorSeries\n",
    "    * 2.2 Perform Computations\n",
    "    * 2.3 Construct Records DataFrame\n",
    "3. [Estimate $\\pi$ using Monte Carlo Simulation with Numpy (NumpyMC)](#3.-Estimate-$\\pi$-using-Monte-Carlo-Simulation-with-Numpy)\n",
    "    * 3.1 Perform Numpy Computations\n",
    "    * 3.2 Construct Records DataFrame\n",
    "4. [Estimate $\\pi$ using Quantum Monte Carlo Simulation (QCMC)](#4.-Estimate-$\\pi$-using-Quantum-Monte-Carlo-Simulation) \n",
    "    * 4.1 Define Functions\n",
    "        * CreateCircuit\n",
    "        * GenerateRandomNumbers_QC\n",
    "        * NormalizeNumbers\n",
    "    * 4.2 Perform Computations\n",
    "    * 4.3 Construct Performance DataFrame\n",
    "5. [Analysis of Performance](#5.-Analysis-of-Performance)\n",
    "    * 5.1 Construct $\\pi$ Approximation Performance DataFrame\n",
    "    * 5.2 Save Performance DataFrame as csv\n",
    "    * 5.3 Plot Sample Size vs. $\\pi$ Approximation\n",
    "    * 5.4 Plot Sample Size vs. $\\pi$ Approximation Error\n",
    "    * 5.5 Plot Computational Time vs. $\\pi$ Approximation Error\n",
    "    * 5.6 Plot  $\\pi$ Approximation Error vs. $Log_{10}$(Population)\n",
    "    * 5.7 Measure Corrilation between $\\pi$ Approximation Error and Sample Size\n",
    "6. [Conclusion - Which is better?](#6.-Conclusion)\n",
    "\n",
    "7. [Visualize Approximation of $\\pi$](#7.-Visualize-Approximation-of-$\\pi$)"
   ]
  },
  {
   "cell_type": "markdown",
   "id": "689f710c",
   "metadata": {},
   "source": [
    "### 0. Define Problem\n",
    "\n",
    "<br>\n",
    "\n",
    "The below code is dedicated to approximating $\\pi$ using various computational methods. The famously irrational number can be approximated using iterative methods envolving the __Taylor Series__ approximation and __Monte Carlo__ simulation methods. Each of the respective methods is reliant on the use of iterative computations to approximate $\\pi$ and with each sucessive iteration get closer to $\\pi$. the follwing Cod will test various population sizes against different algorithms to test for both speed and acurracy.\n",
    "\n",
    "\n",
    "To test the fidelity of each algorithm populations of various sizes will be tested against different population sizes ranging in value of $10^{2}, 10^{3}, 10^{4}, 10^{5}, 10^{6}, 10^{7}, 10^{8}$. With larger popoulations, more iterations can be conducted and it is hypothesized that population size and error measured between $\\pi$ and the associated approximation measured as:\n",
    "\n",
    "$$error = | \\pi - approximation|$$\n",
    "\n",
    "are negatively corrilated such that, more iterations cause less error.\n",
    "\n",
    "\n",
    "However dependening on the method used, the difference between the true value of $\\pi$ and its approximated value should become smaller, faster with successive iterations. The below code will attempt to secondarily measure which method is better via metrics associated accuracy and speed.\n",
    "\n",
    "\n",
    "<br>\n",
    "\n",
    "#### Approximating $\\pi$ vai the Taylor Series Expantion:\n",
    "\n",
    "$$\\pi = 4 \\sum_{i=1}^{n} \\frac{(-1)^{n}}{2n-1}$$\n",
    "\n",
    "$$ \\pi = 4 \\left( 1 - \\frac{1}{3} + \\frac{1}{5} - \\frac{1}{7} + \\frac{1}{9} ... \\frac{1}{n} \\right) = 3.1415926...$$\n",
    "\n",
    "<br>\n",
    "\n",
    "#### Aproximate $\\pi$ via Monte Carlo Simulation:\n",
    "\n",
    "\n",
    "$$ \\pi \\sim \\frac{ || \\sqrt{(x^{2} + y^{2})} || < 1 }{n}$$\n",
    "\n",
    "<br>\n",
    "\n",
    "![MC_Simulation](Monte_Carlo_Approximation.gif)"
   ]
  },
  {
   "cell_type": "markdown",
   "id": "aa80e700",
   "metadata": {},
   "source": [
    "### 1. Import Libraries"
   ]
  },
  {
   "cell_type": "code",
   "execution_count": 3,
   "id": "c28e1d76",
   "metadata": {},
   "outputs": [],
   "source": [
    "# import visulaization tool\n",
    "import seaborn as sns\n",
    "import matplotlib.pyplot as plt\n",
    "\n",
    "# import numerical processing tool\n",
    "import numpy as np\n",
    "np.random.seed(1234)\n",
    "\n",
    "# import quantum simulation tools\n",
    "from qiskit import QuantumRegister, ClassicalRegister, QuantumCircuit\n",
    "from qiskit import BasicAer, execute\n",
    "import pylatexenc\n",
    "\n",
    "# data handeling\n",
    "import pandas as pd\n",
    "\n",
    "# measure time/duration \n",
    "import time\n",
    "\n",
    "# suppress warnings\n",
    "import warnings\n",
    "warnings.filterwarnings('ignore')"
   ]
  },
  {
   "cell_type": "markdown",
   "id": "fc61b6b7",
   "metadata": {},
   "source": [
    "### 2. Estimate $\\pi$ using Taylor Series Expansion\n",
    "\n",
    "$$\\pi = 4 \\sum_{i=1}^{n} \\frac{(-1)^{n}}{2n-1} = 4  \\left( 1 - \\frac{1}{3} + \\frac{1}{5} - \\frac{1}{7} + \\frac{1}{9} ... \\frac{1}{n }\\right)$$\n"
   ]
  },
  {
   "cell_type": "markdown",
   "id": "010a60bb",
   "metadata": {},
   "source": [
    "#### 2.1 Define Functions - GenerateTaylorSeries"
   ]
  },
  {
   "cell_type": "code",
   "execution_count": 1,
   "id": "68d774ea",
   "metadata": {},
   "outputs": [],
   "source": [
    "def GenerateTaylorSeries(x):\n",
    "    \"\"\"\n",
    "    Input:\n",
    "        x | int | numebr of iterations to approximate taylor series expansion pi/4\n",
    "    Output:\n",
    "        pi_aproximation | float | approximation of pi        \n",
    "    \"\"\"\n",
    "        \n",
    "    iteration_value = [(1**(2*i+1)*(-1)**i)/(2*i+1) for i in np.arange(x)]\n",
    "    summation = np.sum(iteration_value)\n",
    "    pi_approximation = 4 * summation\n",
    "        \n",
    "    return pi_approximation"
   ]
  },
  {
   "cell_type": "markdown",
   "id": "1def0f7f",
   "metadata": {},
   "source": [
    "#### 2.2 Perform Computations\n"
   ]
  },
  {
   "cell_type": "code",
   "execution_count": null,
   "id": "0934dc3e",
   "metadata": {},
   "outputs": [],
   "source": [
    "# establish lists to hold recorded values\n",
    "pi_approximation_list = []\n",
    "population_list = []\n",
    "duration = [] \n",
    "\n",
    "for sample_size in [int(1e2), int(1e3), int(1e4), int(1e5), int(1e6), int(1e7), int(1e8)]:\n",
    "\n",
    "    print(sample_size)\n",
    "        \n",
    "    # measure start time\n",
    "    start = time.time()   \n",
    "    \n",
    "    # generate taylor series\n",
    "    pi_approximation = GenerateTaylorSeries(x = sample_size)\n",
    "    \n",
    "    # measure stop time\n",
    "    stop = time.time()\n",
    "    \n",
    "    # record keeping\n",
    "    duration.append(stop-start)        \n",
    "    pi_approximation_list.append(pi_approximation)\n",
    "    population_list.append(sample_size)\n",
    "    "
   ]
  },
  {
   "cell_type": "markdown",
   "id": "fc50beea",
   "metadata": {},
   "source": [
    "#### 2.3 Construct Records DataFrame"
   ]
  },
  {
   "cell_type": "code",
   "execution_count": null,
   "id": "d218c1ea",
   "metadata": {},
   "outputs": [],
   "source": [
    "TaylorSeries_Performance = (\n",
    "    pd.DataFrame(\n",
    "        data = list(zip(pi_approximation_list, population_list, duration)),\n",
    "        columns = ['pi_approximatation', 'population', 'duration']\n",
    "    )\n",
    "    .assign(        \n",
    "        error = lambda x: x['pi_approximatation'] - np.pi\n",
    "    )   \n",
    ")\n",
    "\n",
    "display(TaylorSeries_Performance)"
   ]
  },
  {
   "cell_type": "markdown",
   "id": "8e976a6b",
   "metadata": {},
   "source": [
    "### 3. Estimate $\\pi$ using Monte Carlo Simulation with Numpy"
   ]
  },
  {
   "cell_type": "markdown",
   "id": "ba2a14d9",
   "metadata": {},
   "source": [
    "#### 3.1 Perform Numpy Computations"
   ]
  },
  {
   "cell_type": "code",
   "execution_count": null,
   "id": "69516f7e",
   "metadata": {
    "scrolled": true
   },
   "outputs": [],
   "source": [
    "# establish lists to hold recorded values\n",
    "pi_approximation_list = []\n",
    "population_list = []\n",
    "duration = [] \n",
    "\n",
    "for sample_size in [int(1e2), int(1e3), int(1e4), int(1e5), int(1e6), int(1e7), int(1e8)]:\n",
    "\n",
    "    print(sample_size)\n",
    "        \n",
    "    # measure start time\n",
    "    start = time.time()   \n",
    "    \n",
    "    # generate x values\n",
    "    x = np.random.random_sample(sample_size)\n",
    "    # generate y values\n",
    "    y = np.random.random_sample(sample_size)\n",
    "    \n",
    "    # create MC \n",
    "    mc_values = np.sqrt(np.square(x) + np.square(y))\n",
    "    pi_approximation = 4*len(mc_values[mc_values <= 1]) / len(x)\n",
    "    \n",
    "    # measure stop time\n",
    "    stop = time.time()\n",
    "    \n",
    "    # record keeping\n",
    "    duration.append(stop-start)        \n",
    "    pi_approximation_list.append(pi_approximation)\n",
    "    population_list.append(sample_size)"
   ]
  },
  {
   "cell_type": "markdown",
   "id": "ee10f5cf",
   "metadata": {},
   "source": [
    "#### 3.2 Construct Records DataFrame"
   ]
  },
  {
   "cell_type": "code",
   "execution_count": null,
   "id": "614185b2",
   "metadata": {},
   "outputs": [],
   "source": [
    "Numpy_Performance = (\n",
    "    pd.DataFrame(\n",
    "        data = list(zip(pi_approximation_list, population_list, duration)),\n",
    "        columns = ['pi_approximatation', 'population', 'duration']\n",
    "    )\n",
    "    .assign(        \n",
    "        error = lambda x: x['pi_approximatation'] - np.pi\n",
    "    )   \n",
    ")\n",
    "\n",
    "display(Numpy_Performance)"
   ]
  },
  {
   "cell_type": "markdown",
   "id": "f306963c",
   "metadata": {},
   "source": [
    "### 4. Estimate $\\pi$ using Quantum Monte Carlo Simulation"
   ]
  },
  {
   "cell_type": "markdown",
   "id": "f96fd8e1",
   "metadata": {},
   "source": [
    "#### 4.1 Define Functions - CreateCircuit"
   ]
  },
  {
   "cell_type": "code",
   "execution_count": null,
   "id": "39556cec",
   "metadata": {},
   "outputs": [],
   "source": [
    "def CreateCircuit(bits):\n",
    "    \"\"\"\n",
    "    Input:\n",
    "        bits | int | defines how many q-bits the circuit involves\n",
    "    Output:\n",
    "        circuit | qiskit.circuit | establish a circuit to randomly generate 8-bit binary numbers\n",
    "        circuit_diagram | matplotlib.figure | figure that depicts the q-bit to c-bit figure\n",
    "    \"\"\"    \n",
    "    \n",
    "    # define quantum register | classical register\n",
    "    q = QuantumRegister(bits);  c = ClassicalRegister(bits)\n",
    "    \n",
    "    # define circuit\n",
    "    circuit = QuantumCircuit(q, c)\n",
    "    \n",
    "    # use for loops to add q-bits and hadamar gates to the existing circuit\n",
    "    for j in range(bits): circuit.h(q[j])\n",
    "    \n",
    "    # add measurements to transfer from q-bit to classical-bit\n",
    "    circuit.measure(q, c)\n",
    "    \n",
    "    # draw circuit\n",
    "    circuit_drawing = circuit.draw(output='mpl')\n",
    "    \n",
    "    # return circuit and drawing\n",
    "    #return (circuit, circuit_drawing)\n",
    "    return circuit"
   ]
  },
  {
   "cell_type": "markdown",
   "id": "6185626c",
   "metadata": {},
   "source": [
    "#### 4.1 Define Functions - GenerateRandomNumbers_QC"
   ]
  },
  {
   "cell_type": "code",
   "execution_count": null,
   "id": "be396914",
   "metadata": {},
   "outputs": [],
   "source": [
    "def GenerateRandomNumbers_QC(circuit, sample_size):\n",
    "    \"\"\"\n",
    "    Input:\n",
    "        circuit | qiskit.circuit | establish a circuit to randomly generate 8-bit binary numbers\n",
    "        sample_size | int | number of iterations to generate 8-bit numbers\n",
    "    Output:\n",
    "        numbers | list(int) | list of binary numbers generated by the circuit\n",
    "    \"\"\"   \n",
    "    \n",
    "    # generate binary numbers\n",
    "    binary_numbers = execute(\n",
    "        experiments = circuit,\n",
    "        backend = BasicAer.get_backend('qasm_simulator'),\n",
    "        shots = sample_size,\n",
    "        memory = True\n",
    "    )\n",
    "    \n",
    "    # convert binary numbers to integers\n",
    "    numbers = np.array([int(i, 2) for i in binary_numbers.result().get_memory()])\n",
    "    \n",
    "    return numbers"
   ]
  },
  {
   "cell_type": "markdown",
   "id": "a4514cf8",
   "metadata": {},
   "source": [
    "#### 4.1 Define Functions - NormalizeNumbers"
   ]
  },
  {
   "cell_type": "code",
   "execution_count": null,
   "id": "6a6a9d66",
   "metadata": {},
   "outputs": [],
   "source": [
    "def NormalizeNumbers(numbers):\n",
    "    \"\"\"\n",
    "    Input:\n",
    "        numbers | list(int) | list of binary numbers generated by the circuit\n",
    "    Output:\n",
    "        normalized_values | list(float) | list of normalized numbers between [0,1]\n",
    "    \"\"\"\n",
    "    minimum = min(numbers)\n",
    "    maximum = max(numbers)\n",
    "    \n",
    "    normalized_values = np.array([(num - maximum) / (maximum - minimum) for num in numbers])\n",
    "    \n",
    "    return normalized_values"
   ]
  },
  {
   "cell_type": "markdown",
   "id": "6ea6823c",
   "metadata": {},
   "source": [
    "#### 4.2 Perform Computations"
   ]
  },
  {
   "cell_type": "code",
   "execution_count": null,
   "id": "e28e155b",
   "metadata": {
    "scrolled": true
   },
   "outputs": [],
   "source": [
    "# establish circute\n",
    "bits = 8\n",
    "circuit = CreateCircuit(bits = bits)\n",
    "\n",
    "# establish lists to hold recorded values\n",
    "pi_approximation_list = []\n",
    "population_list = []\n",
    "duration = [] \n",
    "\n",
    "# perform iterations    \n",
    "for sample_size in [int(1e2), int(1e3), int(1e4), int(1e5), int(1e6), int(1e7), int(1e8)]:\n",
    "\n",
    "    print(sample_size)\n",
    "        \n",
    "    # measure start time\n",
    "    start = time.time()   \n",
    "    \n",
    "    # generate x values\n",
    "    x = NormalizeNumbers(GenerateRandomNumbers_QC(circuit = circuit, sample_size = sample_size))\n",
    "    # generate y values\n",
    "    y = NormalizeNumbers(GenerateRandomNumbers_QC(circuit = circuit, sample_size = sample_size))\n",
    "    \n",
    "    # create MC\n",
    "    mc_values = np.sqrt(np.square(x) + np.square(y))\n",
    "    pi_approximation = 4*len(mc_values[mc_values <= 1]) / len(x)\n",
    "    \n",
    "    # measure stop time\n",
    "    stop = time.time()\n",
    "    \n",
    "    # record keeping\n",
    "    duration.append(stop-start)        \n",
    "    pi_approximation_list.append(pi_approximation)\n",
    "    population_list.append(sample_size)"
   ]
  },
  {
   "cell_type": "markdown",
   "id": "0d69d678",
   "metadata": {},
   "source": [
    "#### 4.3 Construct Records DataFrame"
   ]
  },
  {
   "cell_type": "code",
   "execution_count": null,
   "id": "6477643c",
   "metadata": {},
   "outputs": [],
   "source": [
    "QuantumComputing_Performance = (\n",
    "    pd.DataFrame(\n",
    "        data = list(zip(pi_approximation_list, population_list, duration)),\n",
    "        columns = ['pi_approximatation', 'population', 'duration']\n",
    "    )\n",
    "    .assign(        \n",
    "        error = lambda x: x['pi_approximatation'] - np.pi\n",
    "    )   \n",
    ")\n",
    "\n",
    "display(QuantumComputing_Performance)"
   ]
  },
  {
   "cell_type": "markdown",
   "id": "14bb9199",
   "metadata": {},
   "source": [
    "### 5. Analysis of Performance"
   ]
  },
  {
   "cell_type": "markdown",
   "id": "fa74d737",
   "metadata": {},
   "source": [
    "#### 5.1 Construct $\\pi$ Approximation Performance DataFrame"
   ]
  },
  {
   "cell_type": "code",
   "execution_count": null,
   "id": "db794226",
   "metadata": {},
   "outputs": [],
   "source": [
    "TaylorSeries_Performance     = TaylorSeries_Performance.assign(method = 'TaylorSeries')\n",
    "Numpy_Performance            = Numpy_Performance.assign(method = 'NumpyMC')\n",
    "QuantumComputing_Performance = QuantumComputing_Performance.assign(method = 'QCMC')\n",
    "\n",
    "Performance_DataFrame = (\n",
    "    pd.concat(\n",
    "        [TaylorSeries_Performance, Numpy_Performance, QuantumComputing_Performance]\n",
    "    )\n",
    "    [['method', 'population', 'duration', 'pi_approximatation', 'error']]\n",
    ")"
   ]
  },
  {
   "cell_type": "markdown",
   "id": "104a44f8",
   "metadata": {},
   "source": [
    "####  5.2 Save Performance DataFrame as csv"
   ]
  },
  {
   "cell_type": "code",
   "execution_count": null,
   "id": "1ee828f7",
   "metadata": {},
   "outputs": [],
   "source": [
    "Performance_DataFrame.to_csv(\"./Pi_Approximation_Performance_Record.csv\", index = False)"
   ]
  },
  {
   "cell_type": "markdown",
   "id": "66ce7342",
   "metadata": {},
   "source": [
    "#### 5.3 Plot Sample Size vs. $\\pi$ Approximation"
   ]
  },
  {
   "cell_type": "code",
   "execution_count": null,
   "id": "d3a9bad8",
   "metadata": {},
   "outputs": [],
   "source": [
    "fig, ax0 = plt.subplots()\n",
    "\n",
    "for algorithm in ['TaylorSeries', 'NumpyMC', 'QCMC']:\n",
    "    (\n",
    "        Performance_DataFrame\n",
    "        .query(f\"method == '{algorithm}'\")\n",
    "        .assign(log_pop = lambda x: np.log10(x['population']))\n",
    "        .plot(\n",
    "            x = 'log_pop',\n",
    "            y = 'pi_approximatation',\n",
    "            ax = ax0,\n",
    "            alpha = 0.6,\n",
    "            style = \"o--\",            \n",
    "            markersize = 10,            \n",
    "            xlabel = \"log10 Computational Iterations\",\n",
    "            ylabel = \"Approximation to Pi\",\n",
    "            title = \"Iterative Approximation of Pi\",\n",
    "            figsize = (16, 5),\n",
    "        )\n",
    "    )\n",
    "    \n",
    "ax0.legend(['TaylorSeries', 'NumpyMC', 'QCMC'])\n",
    "plt.axhline(\n",
    "    y = np.pi,\n",
    "    xmin = 0, xmax = Performance_DataFrame.population.max(),\n",
    "    color = 'red',\n",
    "    linewidth = 2,\n",
    "    linestyle = 'dotted'\n",
    ")"
   ]
  },
  {
   "cell_type": "markdown",
   "id": "e780c97d",
   "metadata": {},
   "source": [
    "#### 5.4 Plot $log_{10}$(Durations) vs. $\\pi$ Approximation Error"
   ]
  },
  {
   "cell_type": "code",
   "execution_count": null,
   "id": "df71257b",
   "metadata": {},
   "outputs": [],
   "source": [
    "fig, ax0 = plt.subplots()\n",
    "\n",
    "for algorithm in ['TaylorSeries', 'NumpyMC', 'QCMC']:\n",
    "    (\n",
    "        Performance_DataFrame\n",
    "        .query(f\"method == '{algorithm}'\")\n",
    "        .assign(log_pop = lambda x: np.log10(x['population']))\n",
    "        .plot(\n",
    "            x = 'log_pop',\n",
    "            y = 'error',\n",
    "            ax = ax0,\n",
    "            alpha = 0.6,\n",
    "            style = \"o--\",\n",
    "            markersize = 10,            \n",
    "            xlabel = \"log10 Computational Iterations\",\n",
    "            ylabel = \"Error\",\n",
    "            title = \"Error Approximation of Pi vs Number of Computational Samples\",\n",
    "            figsize = (16, 5),\n",
    "        )\n",
    "    )\n",
    "    \n",
    "ax0.legend(['TaylorSeries', 'NumpyMC', 'QCMC'])\n",
    "plt.axhline(\n",
    "    y = 0,\n",
    "    xmin = 0, xmax = Performance_DataFrame.population.max(),\n",
    "    color = 'red',\n",
    "    linewidth = 2,\n",
    "    linestyle = 'dotted'\n",
    ")"
   ]
  },
  {
   "cell_type": "markdown",
   "id": "afe98e60",
   "metadata": {},
   "source": [
    "#### 5.5 Plot $log_{10}$(Durations) vs. $\\pi$ Approximation Error"
   ]
  },
  {
   "cell_type": "code",
   "execution_count": null,
   "id": "d336fab7",
   "metadata": {},
   "outputs": [],
   "source": [
    "fig, ax0 = plt.subplots()\n",
    "\n",
    "for algorithm in ['TaylorSeries', 'NumpyMC', 'QCMC']:\n",
    "    (\n",
    "        Performance_DataFrame\n",
    "        .query(f\"method == '{algorithm}'\")\n",
    "        .assign(\n",
    "            log_pop = lambda x: np.log10(x['population']),\n",
    "            log_duration = lambda x: np.log(x['duration'])\n",
    "        )\n",
    "        .sort_values('log_duration')\n",
    "        .plot(\n",
    "            x = 'log_duration',\n",
    "            y = 'error',\n",
    "            ax = ax0,\n",
    "            alpha = 0.6,\n",
    "            style = \"o--\",            \n",
    "            markersize = 10,\n",
    "            xlabel = \"log10 Computational Duration log10(seconds)\",\n",
    "            ylabel = \"Error Approximation to Pi\",\n",
    "            title = \"Copmutational Duration and Pi Approximation Error\",\n",
    "            figsize = (16, 5),\n",
    "        )\n",
    "    )\n",
    "    \n",
    "ax0.legend(['TaylorSeries', 'NumpyMC', 'QCMC'])\n",
    "plt.axhline(\n",
    "    y = 0,\n",
    "    xmin = 0, xmax = Performance_DataFrame.population.max(),\n",
    "    color = 'red',\n",
    "    linewidth = 2,\n",
    "    linestyle = 'dotted'\n",
    ")"
   ]
  },
  {
   "cell_type": "markdown",
   "id": "09cde3c0",
   "metadata": {},
   "source": [
    "#### 5.6 Plot  $\\pi$ Approximation Error vs. $Log_{10}$(Population)"
   ]
  },
  {
   "cell_type": "code",
   "execution_count": null,
   "id": "378e5203",
   "metadata": {},
   "outputs": [],
   "source": [
    "fig, ax0 = plt.subplots()\n",
    "\n",
    "for algorithm in ['TaylorSeries', 'NumpyMC', 'QCMC']:\n",
    "    (\n",
    "        Performance_DataFrame\n",
    "        .query(f\"method == '{algorithm}'\")\n",
    "        .assign(\n",
    "            log_pop = lambda x: np.log10(x['population']),\n",
    "            log_duration = lambda x: np.log(x['duration']),\n",
    "            abs_error = lambda x: abs(x['error'])\n",
    "        )\n",
    "        .sort_values('log_pop')\n",
    "        .plot(\n",
    "            x = 'log_pop',\n",
    "            y = 'abs_error',\n",
    "            ax = ax0,\n",
    "            alpha = 0.6,\n",
    "            style = \"o--\",            \n",
    "            markersize = 10,\n",
    "            xlabel = \"log10 Computational Duration log10(seconds)\",\n",
    "            ylabel = \"Error Approximation to Pi\",\n",
    "            title = \"Duration anad Pi Approximation Error\",\n",
    "            figsize = (16, 5),\n",
    "        )\n",
    "    )\n",
    "    \n",
    "ax0.legend(['TaylorSeries', 'NumpyMC', 'QCMC'])\n",
    "plt.axhline(\n",
    "    y = 0,\n",
    "    xmin = 0, xmax = Performance_DataFrame.population.max(),\n",
    "    color = 'red',\n",
    "    linewidth = 2,\n",
    "    linestyle = 'dotted'\n",
    ")"
   ]
  },
  {
   "cell_type": "markdown",
   "id": "c166ad73",
   "metadata": {},
   "source": [
    "#### 5.7 Measure Corrilation between Pi Approximation Error and Sample Size"
   ]
  },
  {
   "cell_type": "code",
   "execution_count": null,
   "id": "6ee39d04",
   "metadata": {},
   "outputs": [],
   "source": [
    "for algorithm in ['TaylorSeries', 'NumpyMC', 'QCMC']:\n",
    "    display(\n",
    "        f\"Algorithm: {algorithm}\",\n",
    "        (\n",
    "            Performance_DataFrame\n",
    "            .query(\n",
    "                f\"method == '{algorithm}'\"\n",
    "            )\n",
    "            .assign(\n",
    "                log_pop = lambda x: np.log10(x['population']),\n",
    "                log_duration = lambda x: np.log(x['duration']),\n",
    "                abs_error = lambda x: abs(x['error'])\n",
    "            )        \n",
    "            [['population', 'abs_error']]\n",
    "            .corr()\n",
    "        )\n",
    "    )"
   ]
  },
  {
   "cell_type": "markdown",
   "id": "f4852940",
   "metadata": {},
   "source": [
    "### 6. Conclusion\n",
    "\n",
    "<br>\n",
    "\n",
    "#### Bottom Line Up Front (BLUF):\n",
    "\n",
    "Ranking the various algorithms by speed and accuracy:\n",
    "\n",
    "| Rank | Algorithm    |\n",
    "|------|--------------|\n",
    "| 1    | TaylorSeries |\n",
    "| 2    | NumpyMC      |\n",
    "| 3    | QCMC         |\n",
    "\n",
    "<br>\n",
    "\n",
    "#### Analysis:\n",
    "\n",
    "The series method of approxiamting $\\pi$ only requires one algorithmicaly generated list with which to perform computations. In constrast each of the _Monte Carlo Approximation_ methods requires two of the aforementioned algorithmicaly generated lists and should therefore be expected, and proven, to be less effecient that the aformentioned _Taylor Series Expansion_ method. Between the two various of the Monte Carlo Approximation method, the Numpy utilzation method perofrmed faster and more accurately for population sizes greater than $10^{2}$ as compared to the Quantum Computing method. Incidently the corrilation between population size and absolute value of the Approximation Error are indeed negtively corrilated with various degrees of strength listed below:\n",
    "\n",
    "<br>\n",
    "\n",
    "| Method       | Corrilation |\n",
    "|--------------|-------------|\n",
    "| TaylorSeries | -0.211531   |\n",
    "| NumpyMC      | -0.324324   |\n",
    "| QCMC         | -0.195622   | \n",
    "\n",
    "<br>\n",
    "\n",
    "Although weakly corrilated the NumpyMC algorithm is almost twices a negatively corrilated as the QCMC algorithm futher providign evidence to the notation that the NumpyMC algorithm is faster and more accruate the the QCMC algorithm."
   ]
  },
  {
   "cell_type": "markdown",
   "id": "94b88afe",
   "metadata": {},
   "source": [
    "### 7. Visualize Approximation of $\\pi$"
   ]
  },
  {
   "cell_type": "markdown",
   "id": "1ce3e1aa",
   "metadata": {},
   "source": [
    "#### 7.1 Talor Series Approximation of $\\pi$"
   ]
  },
  {
   "cell_type": "code",
   "execution_count": 69,
   "id": "eba6a867",
   "metadata": {},
   "outputs": [
    {
     "data": {
      "text/plain": [
       "<matplotlib.lines.Line2D at 0x1763bbb9f40>"
      ]
     },
     "execution_count": 69,
     "metadata": {},
     "output_type": "execute_result"
    },
    {
     "data": {
      "image/png": "[encoded data removed]",
      "text/plain": [
       "<Figure size 1152x360 with 1 Axes>"
      ]
     },
     "metadata": {
      "needs_background": "light"
     },
     "output_type": "display_data"
    }
   ],
   "source": [
    "sample_size = int(1e2)\n",
    "\n",
    "(\n",
    "    pd.DataFrame(\n",
    "        data = list(zip(\n",
    "            range(sample_size),           \n",
    "        )),\n",
    "        columns = ['sample']        \n",
    "    )\n",
    "    .assign(\n",
    "        approximation = lambda x: (1**(2*x['sample']+1)*(-1)**x['sample'])/(2*x['sample']+1),\n",
    "        pi = lambda x: abs(4*np.cumsum(x['approximation']))\n",
    "    )\n",
    "    .query(\"pi > 3.1 and pi < 3.19\")\n",
    "    .plot(\n",
    "        x = 'sample',\n",
    "        y = 'pi',   \n",
    "        style = \"o--\",            \n",
    "        markersize = 3,\n",
    "        xlabel = \"Sample Iteration\",\n",
    "        ylabel = \"Approximation to Pi\",\n",
    "        title = \"Approximation of Pi using Taylor Series\",\n",
    "        figsize = (16, 5),\n",
    "    )\n",
    ")\n",
    "\n",
    "\n",
    "plt.axhline(\n",
    "    y = np.pi,\n",
    "    xmin = 0, xmax = sample_size,\n",
    "    color = 'red',\n",
    "    linewidth = 2,\n",
    "    linestyle = 'dotted'\n",
    ")"
   ]
  },
  {
   "cell_type": "markdown",
   "id": "eee91e8f",
   "metadata": {},
   "source": [
    "#### 7.2 Monte Carlo Approximation of $\\pi$"
   ]
  },
  {
   "cell_type": "code",
   "execution_count": 30,
   "id": "eee026f7",
   "metadata": {},
   "outputs": [],
   "source": [
    "def ConditionallyColor(x):\n",
    "    \"\"\"\n",
    "    Input:\n",
    "        x | list(float) | monte carlo simulation values\n",
    "    Output:\n",
    "        color | str | color associated with monte carlo visualization\n",
    "    \"\"\"\n",
    "    \n",
    "    if abs(x) <= 1:\n",
    "        color = 'blue'\n",
    "    else:\n",
    "        color = 'red'\n",
    "        \n",
    "    return color"
   ]
  },
  {
   "cell_type": "code",
   "execution_count": 70,
   "id": "07c776b5",
   "metadata": {
    "scrolled": true
   },
   "outputs": [
    {
     "data": {
      "text/plain": [
       "<AxesSubplot:title={'center':'Approximating Pi using Monte Carlo Approximation \\nn = 100000 | pi = 3.1272'}, xlabel='X', ylabel='Y'>"
      ]
     },
     "execution_count": 70,
     "metadata": {},
     "output_type": "execute_result"
    },
    {
     "data": {
      "image/png": "[encoded data removed]",
      "text/plain": [
       "<Figure size 432x432 with 1 Axes>"
      ]
     },
     "metadata": {
      "needs_background": "light"
     },
     "output_type": "display_data"
    }
   ],
   "source": [
    "sample_size = int(1e5)\n",
    "\n",
    "temp = (\n",
    "    pd.DataFrame(\n",
    "        data = list(zip(\n",
    "            np.arange(sample_size),\n",
    "            np.random.random_sample(sample_size),\n",
    "            np.random.random_sample(sample_size)\n",
    "        )),\n",
    "        columns = ['sample', 'x', 'y']\n",
    "    )\n",
    "    .assign(\n",
    "        mc_values =  lambda x: np.sqrt(np.square(x['x']) + np.square(x['y'])),\n",
    "        color = lambda x: x['mc_values'].map(ConditionallyColor)\n",
    "    )\n",
    ")\n",
    "\n",
    "(\n",
    "    temp\n",
    "    .plot(\n",
    "        x = 'x',\n",
    "        y = 'y',\n",
    "        alpha = 0.2,\n",
    "        kind = 'scatter',\n",
    "        color = temp['color'],\n",
    "        xlabel = \"X\",\n",
    "        ylabel = \"Y\",\n",
    "        title = f\"Approximating Pi using Monte Carlo Approximation \\nn = {sample_size} | pi = {pi_approximation}\",\n",
    "        figsize = (6,6)        \n",
    "    )\n",
    "    \n",
    ")"
   ]
  },
  {
   "cell_type": "code",
   "execution_count": null,
   "id": "af808ea6",
   "metadata": {},
   "outputs": [],
   "source": []
  },
  {
   "cell_type": "code",
   "execution_count": null,
   "id": "f839c0b8",
   "metadata": {},
   "outputs": [],
   "source": []
  },
  {
   "cell_type": "code",
   "execution_count": null,
   "id": "09907403",
   "metadata": {},
   "outputs": [],
   "source": []
  },
  {
   "cell_type": "code",
   "execution_count": null,
   "id": "5d3a3efa",
   "metadata": {},
   "outputs": [],
   "source": []
  },
  {
   "cell_type": "code",
   "execution_count": null,
   "id": "b30e0f9d",
   "metadata": {},
   "outputs": [],
   "source": []
  },
  {
   "cell_type": "code",
   "execution_count": null,
   "id": "a44eebde",
   "metadata": {},
   "outputs": [],
   "source": []
  },
  {
   "cell_type": "code",
   "execution_count": null,
   "id": "d95d1994",
   "metadata": {},
   "outputs": [],
   "source": []
  },
  {
   "cell_type": "code",
   "execution_count": null,
   "id": "21580471",
   "metadata": {},
   "outputs": [],
   "source": []
  },
  {
   "cell_type": "code",
   "execution_count": null,
   "id": "10168319",
   "metadata": {},
   "outputs": [],
   "source": []
  },
  {
   "cell_type": "code",
   "execution_count": null,
   "id": "5010985d",
   "metadata": {},
   "outputs": [],
   "source": []
  }
 ],
 "metadata": {
  "kernelspec": {
   "display_name": "Python 3 (ipykernel)",
   "language": "python",
   "name": "python3"
  },
  "language_info": {
   "codemirror_mode": {
    "name": "ipython",
    "version": 3
   },
   "file_extension": ".py",
   "mimetype": "text/x-python",
   "name": "python",
   "nbconvert_exporter": "python",
   "pygments_lexer": "ipython3",
   "version": "3.9.12"
  }
 },
 "nbformat": 4,
 "nbformat_minor": 5
}
